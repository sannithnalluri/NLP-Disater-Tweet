{
  "metadata": {
    "kaggle": {
      "accelerator": "none",
      "dataSources": [
        {
          "sourceId": 17777,
          "databundleVersionId": 869809,
          "sourceType": "competition"
        }
      ],
      "dockerImageVersionId": 30698,
      "isInternetEnabled": true,
      "language": "python",
      "sourceType": "notebook",
      "isGpuEnabled": false
    },
    "kernelspec": {
      "display_name": "Python 3",
      "language": "python",
      "name": "python3"
    },
    "language_info": {
      "codemirror_mode": {
        "name": "ipython",
        "version": 3
      },
      "file_extension": ".py",
      "mimetype": "text/x-python",
      "name": "python",
      "nbconvert_exporter": "python",
      "pygments_lexer": "ipython3",
      "version": "3.10.13"
    },
    "papermill": {
      "default_parameters": {},
      "duration": 308.342599,
      "end_time": "2024-05-12T07:39:40.082751",
      "environment_variables": {},
      "exception": null,
      "input_path": "__notebook__.ipynb",
      "output_path": "__notebook__.ipynb",
      "parameters": {},
      "start_time": "2024-05-12T07:34:31.740152",
      "version": "2.5.0"
    },
    "colab": {
      "provenance": [],
      "include_colab_link": true
    }
  },
  "nbformat_minor": 0,
  "nbformat": 4,
  "cells": [
    {
      "cell_type": "markdown",
      "metadata": {
        "id": "view-in-github",
        "colab_type": "text"
      },
      "source": [
        "<a href=\"https://colab.research.google.com/github/sannithnalluri/NLP-Disater-Tweet/blob/main/MiniProject.ipynb\" target=\"_parent\"><img src=\"https://colab.research.google.com/assets/colab-badge.svg\" alt=\"Open In Colab\"/></a>"
      ]
    },
    {
      "cell_type": "code",
      "source": [
        "import numpy as np\n",
        "import pandas as pd\n",
        "import os\n",
        "for dirname, _, filenames in os.walk('/kaggle/input'):\n",
        "    for filename in filenames:\n",
        "        print(os.path.join(dirname, filename))\n",
        "os.environ['TF_CPP_MIN_LOG_LEVEL'] = '3'"
      ],
      "metadata": {
        "_cell_guid": "b1076dfc-b9ad-4769-8c92-a6c4dae69d19",
        "_uuid": "8f2839f25d086af736a60e9eeb907d3b93b6e0e5",
        "papermill": {
          "duration": 1.074448,
          "end_time": "2024-05-12T07:34:35.856625",
          "exception": false,
          "start_time": "2024-05-12T07:34:34.782177",
          "status": "completed"
        },
        "tags": [],
        "execution": {
          "iopub.status.busy": "2024-05-13T00:27:00.978138Z",
          "iopub.execute_input": "2024-05-13T00:27:00.978766Z",
          "iopub.status.idle": "2024-05-13T00:27:02.483949Z",
          "shell.execute_reply.started": "2024-05-13T00:27:00.978729Z",
          "shell.execute_reply": "2024-05-13T00:27:02.48253Z"
        },
        "trusted": true,
        "id": "4ZFS6iQRlkU8"
      },
      "execution_count": 50,
      "outputs": []
    },
    {
      "cell_type": "code",
      "source": [],
      "metadata": {
        "id": "zDIlkNgbK-vQ"
      },
      "execution_count": null,
      "outputs": []
    },
    {
      "cell_type": "code",
      "source": [
        "train_df=pd.read_csv(\"train.csv\")"
      ],
      "metadata": {
        "papermill": {
          "duration": 0.071674,
          "end_time": "2024-05-12T07:34:35.93894",
          "exception": false,
          "start_time": "2024-05-12T07:34:35.867266",
          "status": "completed"
        },
        "tags": [],
        "execution": {
          "iopub.status.busy": "2024-05-13T00:27:02.486125Z",
          "iopub.execute_input": "2024-05-13T00:27:02.486637Z",
          "iopub.status.idle": "2024-05-13T00:27:02.546025Z",
          "shell.execute_reply.started": "2024-05-13T00:27:02.486605Z",
          "shell.execute_reply": "2024-05-13T00:27:02.544881Z"
        },
        "trusted": true,
        "id": "eElMFcDulkU9"
      },
      "execution_count": 10,
      "outputs": []
    },
    {
      "cell_type": "code",
      "source": [
        "train_df"
      ],
      "metadata": {
        "papermill": {
          "duration": 0.044045,
          "end_time": "2024-05-12T07:34:35.99287",
          "exception": false,
          "start_time": "2024-05-12T07:34:35.948825",
          "status": "completed"
        },
        "tags": [],
        "execution": {
          "iopub.status.busy": "2024-05-13T00:27:02.548362Z",
          "iopub.execute_input": "2024-05-13T00:27:02.549331Z",
          "iopub.status.idle": "2024-05-13T00:27:02.583522Z",
          "shell.execute_reply.started": "2024-05-13T00:27:02.549282Z",
          "shell.execute_reply": "2024-05-13T00:27:02.582063Z"
        },
        "trusted": true,
        "id": "ZkXzRzYFlkU-",
        "colab": {
          "base_uri": "https://localhost:8080/",
          "height": 423
        },
        "outputId": "0f9c7279-0a4f-4664-885a-75e5f4d83002"
      },
      "execution_count": 11,
      "outputs": [
        {
          "output_type": "execute_result",
          "data": {
            "text/plain": [
              "         id keyword location  \\\n",
              "0         1     NaN      NaN   \n",
              "1         4     NaN      NaN   \n",
              "2         5     NaN      NaN   \n",
              "3         6     NaN      NaN   \n",
              "4         7     NaN      NaN   \n",
              "...     ...     ...      ...   \n",
              "7608  10869     NaN      NaN   \n",
              "7609  10870     NaN      NaN   \n",
              "7610  10871     NaN      NaN   \n",
              "7611  10872     NaN      NaN   \n",
              "7612  10873     NaN      NaN   \n",
              "\n",
              "                                                   text  target  \n",
              "0     Our Deeds are the Reason of this #earthquake M...       1  \n",
              "1                Forest fire near La Ronge Sask. Canada       1  \n",
              "2     All residents asked to 'shelter in place' are ...       1  \n",
              "3     13,000 people receive #wildfires evacuation or...       1  \n",
              "4     Just got sent this photo from Ruby #Alaska as ...       1  \n",
              "...                                                 ...     ...  \n",
              "7608  Two giant cranes holding a bridge collapse int...       1  \n",
              "7609  @aria_ahrary @TheTawniest The out of control w...       1  \n",
              "7610  M1.94 [01:04 UTC]?5km S of Volcano Hawaii. htt...       1  \n",
              "7611  Police investigating after an e-bike collided ...       1  \n",
              "7612  The Latest: More Homes Razed by Northern Calif...       1  \n",
              "\n",
              "[7613 rows x 5 columns]"
            ],
            "text/html": [
              "\n",
              "  <div id=\"df-31158908-500d-4cc8-b640-c77d396882e2\" class=\"colab-df-container\">\n",
              "    <div>\n",
              "<style scoped>\n",
              "    .dataframe tbody tr th:only-of-type {\n",
              "        vertical-align: middle;\n",
              "    }\n",
              "\n",
              "    .dataframe tbody tr th {\n",
              "        vertical-align: top;\n",
              "    }\n",
              "\n",
              "    .dataframe thead th {\n",
              "        text-align: right;\n",
              "    }\n",
              "</style>\n",
              "<table border=\"1\" class=\"dataframe\">\n",
              "  <thead>\n",
              "    <tr style=\"text-align: right;\">\n",
              "      <th></th>\n",
              "      <th>id</th>\n",
              "      <th>keyword</th>\n",
              "      <th>location</th>\n",
              "      <th>text</th>\n",
              "      <th>target</th>\n",
              "    </tr>\n",
              "  </thead>\n",
              "  <tbody>\n",
              "    <tr>\n",
              "      <th>0</th>\n",
              "      <td>1</td>\n",
              "      <td>NaN</td>\n",
              "      <td>NaN</td>\n",
              "      <td>Our Deeds are the Reason of this #earthquake M...</td>\n",
              "      <td>1</td>\n",
              "    </tr>\n",
              "    <tr>\n",
              "      <th>1</th>\n",
              "      <td>4</td>\n",
              "      <td>NaN</td>\n",
              "      <td>NaN</td>\n",
              "      <td>Forest fire near La Ronge Sask. Canada</td>\n",
              "      <td>1</td>\n",
              "    </tr>\n",
              "    <tr>\n",
              "      <th>2</th>\n",
              "      <td>5</td>\n",
              "      <td>NaN</td>\n",
              "      <td>NaN</td>\n",
              "      <td>All residents asked to 'shelter in place' are ...</td>\n",
              "      <td>1</td>\n",
              "    </tr>\n",
              "    <tr>\n",
              "      <th>3</th>\n",
              "      <td>6</td>\n",
              "      <td>NaN</td>\n",
              "      <td>NaN</td>\n",
              "      <td>13,000 people receive #wildfires evacuation or...</td>\n",
              "      <td>1</td>\n",
              "    </tr>\n",
              "    <tr>\n",
              "      <th>4</th>\n",
              "      <td>7</td>\n",
              "      <td>NaN</td>\n",
              "      <td>NaN</td>\n",
              "      <td>Just got sent this photo from Ruby #Alaska as ...</td>\n",
              "      <td>1</td>\n",
              "    </tr>\n",
              "    <tr>\n",
              "      <th>...</th>\n",
              "      <td>...</td>\n",
              "      <td>...</td>\n",
              "      <td>...</td>\n",
              "      <td>...</td>\n",
              "      <td>...</td>\n",
              "    </tr>\n",
              "    <tr>\n",
              "      <th>7608</th>\n",
              "      <td>10869</td>\n",
              "      <td>NaN</td>\n",
              "      <td>NaN</td>\n",
              "      <td>Two giant cranes holding a bridge collapse int...</td>\n",
              "      <td>1</td>\n",
              "    </tr>\n",
              "    <tr>\n",
              "      <th>7609</th>\n",
              "      <td>10870</td>\n",
              "      <td>NaN</td>\n",
              "      <td>NaN</td>\n",
              "      <td>@aria_ahrary @TheTawniest The out of control w...</td>\n",
              "      <td>1</td>\n",
              "    </tr>\n",
              "    <tr>\n",
              "      <th>7610</th>\n",
              "      <td>10871</td>\n",
              "      <td>NaN</td>\n",
              "      <td>NaN</td>\n",
              "      <td>M1.94 [01:04 UTC]?5km S of Volcano Hawaii. htt...</td>\n",
              "      <td>1</td>\n",
              "    </tr>\n",
              "    <tr>\n",
              "      <th>7611</th>\n",
              "      <td>10872</td>\n",
              "      <td>NaN</td>\n",
              "      <td>NaN</td>\n",
              "      <td>Police investigating after an e-bike collided ...</td>\n",
              "      <td>1</td>\n",
              "    </tr>\n",
              "    <tr>\n",
              "      <th>7612</th>\n",
              "      <td>10873</td>\n",
              "      <td>NaN</td>\n",
              "      <td>NaN</td>\n",
              "      <td>The Latest: More Homes Razed by Northern Calif...</td>\n",
              "      <td>1</td>\n",
              "    </tr>\n",
              "  </tbody>\n",
              "</table>\n",
              "<p>7613 rows × 5 columns</p>\n",
              "</div>\n",
              "    <div class=\"colab-df-buttons\">\n",
              "\n",
              "  <div class=\"colab-df-container\">\n",
              "    <button class=\"colab-df-convert\" onclick=\"convertToInteractive('df-31158908-500d-4cc8-b640-c77d396882e2')\"\n",
              "            title=\"Convert this dataframe to an interactive table.\"\n",
              "            style=\"display:none;\">\n",
              "\n",
              "  <svg xmlns=\"http://www.w3.org/2000/svg\" height=\"24px\" viewBox=\"0 -960 960 960\">\n",
              "    <path d=\"M120-120v-720h720v720H120Zm60-500h600v-160H180v160Zm220 220h160v-160H400v160Zm0 220h160v-160H400v160ZM180-400h160v-160H180v160Zm440 0h160v-160H620v160ZM180-180h160v-160H180v160Zm440 0h160v-160H620v160Z\"/>\n",
              "  </svg>\n",
              "    </button>\n",
              "\n",
              "  <style>\n",
              "    .colab-df-container {\n",
              "      display:flex;\n",
              "      gap: 12px;\n",
              "    }\n",
              "\n",
              "    .colab-df-convert {\n",
              "      background-color: #E8F0FE;\n",
              "      border: none;\n",
              "      border-radius: 50%;\n",
              "      cursor: pointer;\n",
              "      display: none;\n",
              "      fill: #1967D2;\n",
              "      height: 32px;\n",
              "      padding: 0 0 0 0;\n",
              "      width: 32px;\n",
              "    }\n",
              "\n",
              "    .colab-df-convert:hover {\n",
              "      background-color: #E2EBFA;\n",
              "      box-shadow: 0px 1px 2px rgba(60, 64, 67, 0.3), 0px 1px 3px 1px rgba(60, 64, 67, 0.15);\n",
              "      fill: #174EA6;\n",
              "    }\n",
              "\n",
              "    .colab-df-buttons div {\n",
              "      margin-bottom: 4px;\n",
              "    }\n",
              "\n",
              "    [theme=dark] .colab-df-convert {\n",
              "      background-color: #3B4455;\n",
              "      fill: #D2E3FC;\n",
              "    }\n",
              "\n",
              "    [theme=dark] .colab-df-convert:hover {\n",
              "      background-color: #434B5C;\n",
              "      box-shadow: 0px 1px 3px 1px rgba(0, 0, 0, 0.15);\n",
              "      filter: drop-shadow(0px 1px 2px rgba(0, 0, 0, 0.3));\n",
              "      fill: #FFFFFF;\n",
              "    }\n",
              "  </style>\n",
              "\n",
              "    <script>\n",
              "      const buttonEl =\n",
              "        document.querySelector('#df-31158908-500d-4cc8-b640-c77d396882e2 button.colab-df-convert');\n",
              "      buttonEl.style.display =\n",
              "        google.colab.kernel.accessAllowed ? 'block' : 'none';\n",
              "\n",
              "      async function convertToInteractive(key) {\n",
              "        const element = document.querySelector('#df-31158908-500d-4cc8-b640-c77d396882e2');\n",
              "        const dataTable =\n",
              "          await google.colab.kernel.invokeFunction('convertToInteractive',\n",
              "                                                    [key], {});\n",
              "        if (!dataTable) return;\n",
              "\n",
              "        const docLinkHtml = 'Like what you see? Visit the ' +\n",
              "          '<a target=\"_blank\" href=https://colab.research.google.com/notebooks/data_table.ipynb>data table notebook</a>'\n",
              "          + ' to learn more about interactive tables.';\n",
              "        element.innerHTML = '';\n",
              "        dataTable['output_type'] = 'display_data';\n",
              "        await google.colab.output.renderOutput(dataTable, element);\n",
              "        const docLink = document.createElement('div');\n",
              "        docLink.innerHTML = docLinkHtml;\n",
              "        element.appendChild(docLink);\n",
              "      }\n",
              "    </script>\n",
              "  </div>\n",
              "\n",
              "\n",
              "<div id=\"df-673ed626-5f0f-4e8d-b7fc-53c084f5c3cd\">\n",
              "  <button class=\"colab-df-quickchart\" onclick=\"quickchart('df-673ed626-5f0f-4e8d-b7fc-53c084f5c3cd')\"\n",
              "            title=\"Suggest charts\"\n",
              "            style=\"display:none;\">\n",
              "\n",
              "<svg xmlns=\"http://www.w3.org/2000/svg\" height=\"24px\"viewBox=\"0 0 24 24\"\n",
              "     width=\"24px\">\n",
              "    <g>\n",
              "        <path d=\"M19 3H5c-1.1 0-2 .9-2 2v14c0 1.1.9 2 2 2h14c1.1 0 2-.9 2-2V5c0-1.1-.9-2-2-2zM9 17H7v-7h2v7zm4 0h-2V7h2v10zm4 0h-2v-4h2v4z\"/>\n",
              "    </g>\n",
              "</svg>\n",
              "  </button>\n",
              "\n",
              "<style>\n",
              "  .colab-df-quickchart {\n",
              "      --bg-color: #E8F0FE;\n",
              "      --fill-color: #1967D2;\n",
              "      --hover-bg-color: #E2EBFA;\n",
              "      --hover-fill-color: #174EA6;\n",
              "      --disabled-fill-color: #AAA;\n",
              "      --disabled-bg-color: #DDD;\n",
              "  }\n",
              "\n",
              "  [theme=dark] .colab-df-quickchart {\n",
              "      --bg-color: #3B4455;\n",
              "      --fill-color: #D2E3FC;\n",
              "      --hover-bg-color: #434B5C;\n",
              "      --hover-fill-color: #FFFFFF;\n",
              "      --disabled-bg-color: #3B4455;\n",
              "      --disabled-fill-color: #666;\n",
              "  }\n",
              "\n",
              "  .colab-df-quickchart {\n",
              "    background-color: var(--bg-color);\n",
              "    border: none;\n",
              "    border-radius: 50%;\n",
              "    cursor: pointer;\n",
              "    display: none;\n",
              "    fill: var(--fill-color);\n",
              "    height: 32px;\n",
              "    padding: 0;\n",
              "    width: 32px;\n",
              "  }\n",
              "\n",
              "  .colab-df-quickchart:hover {\n",
              "    background-color: var(--hover-bg-color);\n",
              "    box-shadow: 0 1px 2px rgba(60, 64, 67, 0.3), 0 1px 3px 1px rgba(60, 64, 67, 0.15);\n",
              "    fill: var(--button-hover-fill-color);\n",
              "  }\n",
              "\n",
              "  .colab-df-quickchart-complete:disabled,\n",
              "  .colab-df-quickchart-complete:disabled:hover {\n",
              "    background-color: var(--disabled-bg-color);\n",
              "    fill: var(--disabled-fill-color);\n",
              "    box-shadow: none;\n",
              "  }\n",
              "\n",
              "  .colab-df-spinner {\n",
              "    border: 2px solid var(--fill-color);\n",
              "    border-color: transparent;\n",
              "    border-bottom-color: var(--fill-color);\n",
              "    animation:\n",
              "      spin 1s steps(1) infinite;\n",
              "  }\n",
              "\n",
              "  @keyframes spin {\n",
              "    0% {\n",
              "      border-color: transparent;\n",
              "      border-bottom-color: var(--fill-color);\n",
              "      border-left-color: var(--fill-color);\n",
              "    }\n",
              "    20% {\n",
              "      border-color: transparent;\n",
              "      border-left-color: var(--fill-color);\n",
              "      border-top-color: var(--fill-color);\n",
              "    }\n",
              "    30% {\n",
              "      border-color: transparent;\n",
              "      border-left-color: var(--fill-color);\n",
              "      border-top-color: var(--fill-color);\n",
              "      border-right-color: var(--fill-color);\n",
              "    }\n",
              "    40% {\n",
              "      border-color: transparent;\n",
              "      border-right-color: var(--fill-color);\n",
              "      border-top-color: var(--fill-color);\n",
              "    }\n",
              "    60% {\n",
              "      border-color: transparent;\n",
              "      border-right-color: var(--fill-color);\n",
              "    }\n",
              "    80% {\n",
              "      border-color: transparent;\n",
              "      border-right-color: var(--fill-color);\n",
              "      border-bottom-color: var(--fill-color);\n",
              "    }\n",
              "    90% {\n",
              "      border-color: transparent;\n",
              "      border-bottom-color: var(--fill-color);\n",
              "    }\n",
              "  }\n",
              "</style>\n",
              "\n",
              "  <script>\n",
              "    async function quickchart(key) {\n",
              "      const quickchartButtonEl =\n",
              "        document.querySelector('#' + key + ' button');\n",
              "      quickchartButtonEl.disabled = true;  // To prevent multiple clicks.\n",
              "      quickchartButtonEl.classList.add('colab-df-spinner');\n",
              "      try {\n",
              "        const charts = await google.colab.kernel.invokeFunction(\n",
              "            'suggestCharts', [key], {});\n",
              "      } catch (error) {\n",
              "        console.error('Error during call to suggestCharts:', error);\n",
              "      }\n",
              "      quickchartButtonEl.classList.remove('colab-df-spinner');\n",
              "      quickchartButtonEl.classList.add('colab-df-quickchart-complete');\n",
              "    }\n",
              "    (() => {\n",
              "      let quickchartButtonEl =\n",
              "        document.querySelector('#df-673ed626-5f0f-4e8d-b7fc-53c084f5c3cd button');\n",
              "      quickchartButtonEl.style.display =\n",
              "        google.colab.kernel.accessAllowed ? 'block' : 'none';\n",
              "    })();\n",
              "  </script>\n",
              "</div>\n",
              "\n",
              "  <div id=\"id_cd7873f3-9bcd-4c75-82dc-d26a2da56358\">\n",
              "    <style>\n",
              "      .colab-df-generate {\n",
              "        background-color: #E8F0FE;\n",
              "        border: none;\n",
              "        border-radius: 50%;\n",
              "        cursor: pointer;\n",
              "        display: none;\n",
              "        fill: #1967D2;\n",
              "        height: 32px;\n",
              "        padding: 0 0 0 0;\n",
              "        width: 32px;\n",
              "      }\n",
              "\n",
              "      .colab-df-generate:hover {\n",
              "        background-color: #E2EBFA;\n",
              "        box-shadow: 0px 1px 2px rgba(60, 64, 67, 0.3), 0px 1px 3px 1px rgba(60, 64, 67, 0.15);\n",
              "        fill: #174EA6;\n",
              "      }\n",
              "\n",
              "      [theme=dark] .colab-df-generate {\n",
              "        background-color: #3B4455;\n",
              "        fill: #D2E3FC;\n",
              "      }\n",
              "\n",
              "      [theme=dark] .colab-df-generate:hover {\n",
              "        background-color: #434B5C;\n",
              "        box-shadow: 0px 1px 3px 1px rgba(0, 0, 0, 0.15);\n",
              "        filter: drop-shadow(0px 1px 2px rgba(0, 0, 0, 0.3));\n",
              "        fill: #FFFFFF;\n",
              "      }\n",
              "    </style>\n",
              "    <button class=\"colab-df-generate\" onclick=\"generateWithVariable('train_df')\"\n",
              "            title=\"Generate code using this dataframe.\"\n",
              "            style=\"display:none;\">\n",
              "\n",
              "  <svg xmlns=\"http://www.w3.org/2000/svg\" height=\"24px\"viewBox=\"0 0 24 24\"\n",
              "       width=\"24px\">\n",
              "    <path d=\"M7,19H8.4L18.45,9,17,7.55,7,17.6ZM5,21V16.75L18.45,3.32a2,2,0,0,1,2.83,0l1.4,1.43a1.91,1.91,0,0,1,.58,1.4,1.91,1.91,0,0,1-.58,1.4L9.25,21ZM18.45,9,17,7.55Zm-12,3A5.31,5.31,0,0,0,4.9,8.1,5.31,5.31,0,0,0,1,6.5,5.31,5.31,0,0,0,4.9,4.9,5.31,5.31,0,0,0,6.5,1,5.31,5.31,0,0,0,8.1,4.9,5.31,5.31,0,0,0,12,6.5,5.46,5.46,0,0,0,6.5,12Z\"/>\n",
              "  </svg>\n",
              "    </button>\n",
              "    <script>\n",
              "      (() => {\n",
              "      const buttonEl =\n",
              "        document.querySelector('#id_cd7873f3-9bcd-4c75-82dc-d26a2da56358 button.colab-df-generate');\n",
              "      buttonEl.style.display =\n",
              "        google.colab.kernel.accessAllowed ? 'block' : 'none';\n",
              "\n",
              "      buttonEl.onclick = () => {\n",
              "        google.colab.notebook.generateWithVariable('train_df');\n",
              "      }\n",
              "      })();\n",
              "    </script>\n",
              "  </div>\n",
              "\n",
              "    </div>\n",
              "  </div>\n"
            ],
            "application/vnd.google.colaboratory.intrinsic+json": {
              "type": "dataframe",
              "variable_name": "train_df",
              "summary": "{\n  \"name\": \"train_df\",\n  \"rows\": 7613,\n  \"fields\": [\n    {\n      \"column\": \"id\",\n      \"properties\": {\n        \"dtype\": \"number\",\n        \"std\": 3137,\n        \"min\": 1,\n        \"max\": 10873,\n        \"num_unique_values\": 7613,\n        \"samples\": [\n          3796,\n          3185,\n          7769\n        ],\n        \"semantic_type\": \"\",\n        \"description\": \"\"\n      }\n    },\n    {\n      \"column\": \"keyword\",\n      \"properties\": {\n        \"dtype\": \"category\",\n        \"num_unique_values\": 221,\n        \"samples\": [\n          \"injury\",\n          \"nuclear%20reactor\",\n          \"engulfed\"\n        ],\n        \"semantic_type\": \"\",\n        \"description\": \"\"\n      }\n    },\n    {\n      \"column\": \"location\",\n      \"properties\": {\n        \"dtype\": \"category\",\n        \"num_unique_values\": 3341,\n        \"samples\": [\n          \"Oklahoma\",\n          \"Starling City\",\n          \"Trinidad and Tobago\"\n        ],\n        \"semantic_type\": \"\",\n        \"description\": \"\"\n      }\n    },\n    {\n      \"column\": \"text\",\n      \"properties\": {\n        \"dtype\": \"string\",\n        \"num_unique_values\": 7503,\n        \"samples\": [\n          \"Three Homes Demolished in Unrecognized Arab Village - International Middle East Media Center http://t.co/ik8m4Yi9T4\",\n          \"Reid Lake fire prompts campground evacuation order http://t.co/jBODKM6rBU\",\n          \"FAAN orders evacuation of abandoned aircraft at MMA http://t.co/dEvYbnVXGQ via @todayng\"\n        ],\n        \"semantic_type\": \"\",\n        \"description\": \"\"\n      }\n    },\n    {\n      \"column\": \"target\",\n      \"properties\": {\n        \"dtype\": \"number\",\n        \"std\": 0,\n        \"min\": 0,\n        \"max\": 1,\n        \"num_unique_values\": 2,\n        \"samples\": [\n          0,\n          1\n        ],\n        \"semantic_type\": \"\",\n        \"description\": \"\"\n      }\n    }\n  ]\n}"
            }
          },
          "metadata": {},
          "execution_count": 11
        }
      ]
    },
    {
      "cell_type": "code",
      "source": [
        "import re\n",
        "import string\n",
        "import nltk\n",
        "from nltk.corpus import stopwords\n",
        "from nltk.tokenize import word_tokenize\n",
        "from nltk.stem import PorterStemmer\n",
        "nltk.download('stopwords')\n",
        "nltk.download('punkt')\n",
        "stemmer = PorterStemmer()\n",
        "def preprocess_text(text):\n",
        "    text = text.lower()\n",
        "    tokens = word_tokenize(text)\n",
        "    stopwords_set = set(stopwords.words('english'))\n",
        "    tokens = [stemmer.stem(word) for word in tokens if word not in stopwords_set]\n",
        "    preprocessed_text = ' '.join(tokens)\n",
        "    return preprocessed_text\n",
        "\n",
        "def preprocess_text2(text):\n",
        "    text = text.lower()\n",
        "    tokens = word_tokenize(text)\n",
        "    return tokens\n",
        "\n",
        "from bs4 import BeautifulSoup\n",
        "def clean_text(text):\n",
        "    # Menghapus tag HTML\n",
        "    text = BeautifulSoup(text, \"html.parser\").get_text()\n",
        "    # Menghapus URL\n",
        "    text = re.sub(r'http\\S+', '', text)\n",
        "    # Menghapus karakter non-ASCII kecuali titik\n",
        "    text = re.sub(r'[^\\x00-\\x7F.]', ' ', text)\n",
        "    # Menghapus karakter khusus kecuali titik\n",
        "    text = re.sub(f'[{re.escape(string.punctuation.replace(\".\", \"\"))}]', '', text)\n",
        "    # Menghapus angka yang terpisah\n",
        "    text = re.sub(r'\\b\\d+\\b', '', text)\n",
        "    text = re.sub(r'\\.{2,}', '', text)\n",
        "    # Menghapus spasi ganda setelah titik\n",
        "    text = re.sub(r'(?<=\\.)\\s+', ' ', text).strip()\n",
        "    return text"
      ],
      "metadata": {
        "papermill": {
          "duration": 2.675655,
          "end_time": "2024-05-12T07:34:38.679881",
          "exception": false,
          "start_time": "2024-05-12T07:34:36.004226",
          "status": "completed"
        },
        "tags": [],
        "execution": {
          "iopub.status.busy": "2024-05-13T00:27:02.586801Z",
          "iopub.execute_input": "2024-05-13T00:27:02.587169Z",
          "iopub.status.idle": "2024-05-13T00:27:05.708593Z",
          "shell.execute_reply.started": "2024-05-13T00:27:02.587139Z",
          "shell.execute_reply": "2024-05-13T00:27:05.707291Z"
        },
        "trusted": true,
        "id": "cN2LVhydlkVA",
        "colab": {
          "base_uri": "https://localhost:8080/"
        },
        "outputId": "2bacae57-ace9-405f-bfa7-9a2997ff1a27"
      },
      "execution_count": 12,
      "outputs": [
        {
          "output_type": "stream",
          "name": "stderr",
          "text": [
            "[nltk_data] Downloading package stopwords to /root/nltk_data...\n",
            "[nltk_data]   Unzipping corpora/stopwords.zip.\n",
            "[nltk_data] Downloading package punkt to /root/nltk_data...\n",
            "[nltk_data]   Unzipping tokenizers/punkt.zip.\n"
          ]
        }
      ]
    },
    {
      "cell_type": "code",
      "source": [
        "clean_data=lambda text:clean_text(text)\n",
        "train_df[\"clean_text\"]=train_df[\"text\"].apply(clean_data)"
      ],
      "metadata": {
        "_kg_hide-output": true,
        "papermill": {
          "duration": 0.603975,
          "end_time": "2024-05-12T07:34:39.293971",
          "exception": false,
          "start_time": "2024-05-12T07:34:38.689996",
          "status": "completed"
        },
        "tags": [],
        "execution": {
          "iopub.status.busy": "2024-05-13T00:27:05.711955Z",
          "iopub.execute_input": "2024-05-13T00:27:05.713331Z",
          "iopub.status.idle": "2024-05-13T00:27:06.399109Z",
          "shell.execute_reply.started": "2024-05-13T00:27:05.713271Z",
          "shell.execute_reply": "2024-05-13T00:27:06.397916Z"
        },
        "trusted": true,
        "id": "NbnZGzk5lkVB",
        "colab": {
          "base_uri": "https://localhost:8080/"
        },
        "outputId": "cb1616aa-20d3-41c5-d9c1-3e1fd68ae866"
      },
      "execution_count": 13,
      "outputs": [
        {
          "output_type": "stream",
          "name": "stderr",
          "text": [
            "<ipython-input-12-2c451a8c7207>:26: MarkupResemblesLocatorWarning: The input looks more like a filename than markup. You may want to open this file and pass the filehandle into Beautiful Soup.\n",
            "  text = BeautifulSoup(text, \"html.parser\").get_text()\n"
          ]
        }
      ]
    },
    {
      "cell_type": "code",
      "source": [
        "train_df"
      ],
      "metadata": {
        "papermill": {
          "duration": 0.030772,
          "end_time": "2024-05-12T07:34:39.334806",
          "exception": false,
          "start_time": "2024-05-12T07:34:39.304034",
          "status": "completed"
        },
        "tags": [],
        "execution": {
          "iopub.status.busy": "2024-05-13T00:27:06.401034Z",
          "iopub.execute_input": "2024-05-13T00:27:06.402507Z",
          "iopub.status.idle": "2024-05-13T00:27:06.427958Z",
          "shell.execute_reply.started": "2024-05-13T00:27:06.402429Z",
          "shell.execute_reply": "2024-05-13T00:27:06.426474Z"
        },
        "trusted": true,
        "id": "pigg9KkilkVB",
        "colab": {
          "base_uri": "https://localhost:8080/",
          "height": 423
        },
        "outputId": "0e357990-de97-4078-c438-ad2a1693ae0c"
      },
      "execution_count": 14,
      "outputs": [
        {
          "output_type": "execute_result",
          "data": {
            "text/plain": [
              "         id keyword location  \\\n",
              "0         1     NaN      NaN   \n",
              "1         4     NaN      NaN   \n",
              "2         5     NaN      NaN   \n",
              "3         6     NaN      NaN   \n",
              "4         7     NaN      NaN   \n",
              "...     ...     ...      ...   \n",
              "7608  10869     NaN      NaN   \n",
              "7609  10870     NaN      NaN   \n",
              "7610  10871     NaN      NaN   \n",
              "7611  10872     NaN      NaN   \n",
              "7612  10873     NaN      NaN   \n",
              "\n",
              "                                                   text  target  \\\n",
              "0     Our Deeds are the Reason of this #earthquake M...       1   \n",
              "1                Forest fire near La Ronge Sask. Canada       1   \n",
              "2     All residents asked to 'shelter in place' are ...       1   \n",
              "3     13,000 people receive #wildfires evacuation or...       1   \n",
              "4     Just got sent this photo from Ruby #Alaska as ...       1   \n",
              "...                                                 ...     ...   \n",
              "7608  Two giant cranes holding a bridge collapse int...       1   \n",
              "7609  @aria_ahrary @TheTawniest The out of control w...       1   \n",
              "7610  M1.94 [01:04 UTC]?5km S of Volcano Hawaii. htt...       1   \n",
              "7611  Police investigating after an e-bike collided ...       1   \n",
              "7612  The Latest: More Homes Razed by Northern Calif...       1   \n",
              "\n",
              "                                             clean_text  \n",
              "0     Our Deeds are the Reason of this earthquake Ma...  \n",
              "1                Forest fire near La Ronge Sask. Canada  \n",
              "2     All residents asked to shelter in place are be...  \n",
              "3     people receive wildfires evacuation orders in ...  \n",
              "4     Just got sent this photo from Ruby Alaska as s...  \n",
              "...                                                 ...  \n",
              "7608  Two giant cranes holding a bridge collapse int...  \n",
              "7609  ariaahrary TheTawniest The out of control wild...  \n",
              "7610                    M1. UTC5km S of Volcano Hawaii.  \n",
              "7611  Police investigating after an ebike collided w...  \n",
              "7612  The Latest More Homes Razed by Northern Califo...  \n",
              "\n",
              "[7613 rows x 6 columns]"
            ],
            "text/html": [
              "\n",
              "  <div id=\"df-1cd70758-c455-4bb0-b44e-1875ccd6c4fe\" class=\"colab-df-container\">\n",
              "    <div>\n",
              "<style scoped>\n",
              "    .dataframe tbody tr th:only-of-type {\n",
              "        vertical-align: middle;\n",
              "    }\n",
              "\n",
              "    .dataframe tbody tr th {\n",
              "        vertical-align: top;\n",
              "    }\n",
              "\n",
              "    .dataframe thead th {\n",
              "        text-align: right;\n",
              "    }\n",
              "</style>\n",
              "<table border=\"1\" class=\"dataframe\">\n",
              "  <thead>\n",
              "    <tr style=\"text-align: right;\">\n",
              "      <th></th>\n",
              "      <th>id</th>\n",
              "      <th>keyword</th>\n",
              "      <th>location</th>\n",
              "      <th>text</th>\n",
              "      <th>target</th>\n",
              "      <th>clean_text</th>\n",
              "    </tr>\n",
              "  </thead>\n",
              "  <tbody>\n",
              "    <tr>\n",
              "      <th>0</th>\n",
              "      <td>1</td>\n",
              "      <td>NaN</td>\n",
              "      <td>NaN</td>\n",
              "      <td>Our Deeds are the Reason of this #earthquake M...</td>\n",
              "      <td>1</td>\n",
              "      <td>Our Deeds are the Reason of this earthquake Ma...</td>\n",
              "    </tr>\n",
              "    <tr>\n",
              "      <th>1</th>\n",
              "      <td>4</td>\n",
              "      <td>NaN</td>\n",
              "      <td>NaN</td>\n",
              "      <td>Forest fire near La Ronge Sask. Canada</td>\n",
              "      <td>1</td>\n",
              "      <td>Forest fire near La Ronge Sask. Canada</td>\n",
              "    </tr>\n",
              "    <tr>\n",
              "      <th>2</th>\n",
              "      <td>5</td>\n",
              "      <td>NaN</td>\n",
              "      <td>NaN</td>\n",
              "      <td>All residents asked to 'shelter in place' are ...</td>\n",
              "      <td>1</td>\n",
              "      <td>All residents asked to shelter in place are be...</td>\n",
              "    </tr>\n",
              "    <tr>\n",
              "      <th>3</th>\n",
              "      <td>6</td>\n",
              "      <td>NaN</td>\n",
              "      <td>NaN</td>\n",
              "      <td>13,000 people receive #wildfires evacuation or...</td>\n",
              "      <td>1</td>\n",
              "      <td>people receive wildfires evacuation orders in ...</td>\n",
              "    </tr>\n",
              "    <tr>\n",
              "      <th>4</th>\n",
              "      <td>7</td>\n",
              "      <td>NaN</td>\n",
              "      <td>NaN</td>\n",
              "      <td>Just got sent this photo from Ruby #Alaska as ...</td>\n",
              "      <td>1</td>\n",
              "      <td>Just got sent this photo from Ruby Alaska as s...</td>\n",
              "    </tr>\n",
              "    <tr>\n",
              "      <th>...</th>\n",
              "      <td>...</td>\n",
              "      <td>...</td>\n",
              "      <td>...</td>\n",
              "      <td>...</td>\n",
              "      <td>...</td>\n",
              "      <td>...</td>\n",
              "    </tr>\n",
              "    <tr>\n",
              "      <th>7608</th>\n",
              "      <td>10869</td>\n",
              "      <td>NaN</td>\n",
              "      <td>NaN</td>\n",
              "      <td>Two giant cranes holding a bridge collapse int...</td>\n",
              "      <td>1</td>\n",
              "      <td>Two giant cranes holding a bridge collapse int...</td>\n",
              "    </tr>\n",
              "    <tr>\n",
              "      <th>7609</th>\n",
              "      <td>10870</td>\n",
              "      <td>NaN</td>\n",
              "      <td>NaN</td>\n",
              "      <td>@aria_ahrary @TheTawniest The out of control w...</td>\n",
              "      <td>1</td>\n",
              "      <td>ariaahrary TheTawniest The out of control wild...</td>\n",
              "    </tr>\n",
              "    <tr>\n",
              "      <th>7610</th>\n",
              "      <td>10871</td>\n",
              "      <td>NaN</td>\n",
              "      <td>NaN</td>\n",
              "      <td>M1.94 [01:04 UTC]?5km S of Volcano Hawaii. htt...</td>\n",
              "      <td>1</td>\n",
              "      <td>M1. UTC5km S of Volcano Hawaii.</td>\n",
              "    </tr>\n",
              "    <tr>\n",
              "      <th>7611</th>\n",
              "      <td>10872</td>\n",
              "      <td>NaN</td>\n",
              "      <td>NaN</td>\n",
              "      <td>Police investigating after an e-bike collided ...</td>\n",
              "      <td>1</td>\n",
              "      <td>Police investigating after an ebike collided w...</td>\n",
              "    </tr>\n",
              "    <tr>\n",
              "      <th>7612</th>\n",
              "      <td>10873</td>\n",
              "      <td>NaN</td>\n",
              "      <td>NaN</td>\n",
              "      <td>The Latest: More Homes Razed by Northern Calif...</td>\n",
              "      <td>1</td>\n",
              "      <td>The Latest More Homes Razed by Northern Califo...</td>\n",
              "    </tr>\n",
              "  </tbody>\n",
              "</table>\n",
              "<p>7613 rows × 6 columns</p>\n",
              "</div>\n",
              "    <div class=\"colab-df-buttons\">\n",
              "\n",
              "  <div class=\"colab-df-container\">\n",
              "    <button class=\"colab-df-convert\" onclick=\"convertToInteractive('df-1cd70758-c455-4bb0-b44e-1875ccd6c4fe')\"\n",
              "            title=\"Convert this dataframe to an interactive table.\"\n",
              "            style=\"display:none;\">\n",
              "\n",
              "  <svg xmlns=\"http://www.w3.org/2000/svg\" height=\"24px\" viewBox=\"0 -960 960 960\">\n",
              "    <path d=\"M120-120v-720h720v720H120Zm60-500h600v-160H180v160Zm220 220h160v-160H400v160Zm0 220h160v-160H400v160ZM180-400h160v-160H180v160Zm440 0h160v-160H620v160ZM180-180h160v-160H180v160Zm440 0h160v-160H620v160Z\"/>\n",
              "  </svg>\n",
              "    </button>\n",
              "\n",
              "  <style>\n",
              "    .colab-df-container {\n",
              "      display:flex;\n",
              "      gap: 12px;\n",
              "    }\n",
              "\n",
              "    .colab-df-convert {\n",
              "      background-color: #E8F0FE;\n",
              "      border: none;\n",
              "      border-radius: 50%;\n",
              "      cursor: pointer;\n",
              "      display: none;\n",
              "      fill: #1967D2;\n",
              "      height: 32px;\n",
              "      padding: 0 0 0 0;\n",
              "      width: 32px;\n",
              "    }\n",
              "\n",
              "    .colab-df-convert:hover {\n",
              "      background-color: #E2EBFA;\n",
              "      box-shadow: 0px 1px 2px rgba(60, 64, 67, 0.3), 0px 1px 3px 1px rgba(60, 64, 67, 0.15);\n",
              "      fill: #174EA6;\n",
              "    }\n",
              "\n",
              "    .colab-df-buttons div {\n",
              "      margin-bottom: 4px;\n",
              "    }\n",
              "\n",
              "    [theme=dark] .colab-df-convert {\n",
              "      background-color: #3B4455;\n",
              "      fill: #D2E3FC;\n",
              "    }\n",
              "\n",
              "    [theme=dark] .colab-df-convert:hover {\n",
              "      background-color: #434B5C;\n",
              "      box-shadow: 0px 1px 3px 1px rgba(0, 0, 0, 0.15);\n",
              "      filter: drop-shadow(0px 1px 2px rgba(0, 0, 0, 0.3));\n",
              "      fill: #FFFFFF;\n",
              "    }\n",
              "  </style>\n",
              "\n",
              "    <script>\n",
              "      const buttonEl =\n",
              "        document.querySelector('#df-1cd70758-c455-4bb0-b44e-1875ccd6c4fe button.colab-df-convert');\n",
              "      buttonEl.style.display =\n",
              "        google.colab.kernel.accessAllowed ? 'block' : 'none';\n",
              "\n",
              "      async function convertToInteractive(key) {\n",
              "        const element = document.querySelector('#df-1cd70758-c455-4bb0-b44e-1875ccd6c4fe');\n",
              "        const dataTable =\n",
              "          await google.colab.kernel.invokeFunction('convertToInteractive',\n",
              "                                                    [key], {});\n",
              "        if (!dataTable) return;\n",
              "\n",
              "        const docLinkHtml = 'Like what you see? Visit the ' +\n",
              "          '<a target=\"_blank\" href=https://colab.research.google.com/notebooks/data_table.ipynb>data table notebook</a>'\n",
              "          + ' to learn more about interactive tables.';\n",
              "        element.innerHTML = '';\n",
              "        dataTable['output_type'] = 'display_data';\n",
              "        await google.colab.output.renderOutput(dataTable, element);\n",
              "        const docLink = document.createElement('div');\n",
              "        docLink.innerHTML = docLinkHtml;\n",
              "        element.appendChild(docLink);\n",
              "      }\n",
              "    </script>\n",
              "  </div>\n",
              "\n",
              "\n",
              "<div id=\"df-4eba5592-a4af-4303-adf5-06bda01c7246\">\n",
              "  <button class=\"colab-df-quickchart\" onclick=\"quickchart('df-4eba5592-a4af-4303-adf5-06bda01c7246')\"\n",
              "            title=\"Suggest charts\"\n",
              "            style=\"display:none;\">\n",
              "\n",
              "<svg xmlns=\"http://www.w3.org/2000/svg\" height=\"24px\"viewBox=\"0 0 24 24\"\n",
              "     width=\"24px\">\n",
              "    <g>\n",
              "        <path d=\"M19 3H5c-1.1 0-2 .9-2 2v14c0 1.1.9 2 2 2h14c1.1 0 2-.9 2-2V5c0-1.1-.9-2-2-2zM9 17H7v-7h2v7zm4 0h-2V7h2v10zm4 0h-2v-4h2v4z\"/>\n",
              "    </g>\n",
              "</svg>\n",
              "  </button>\n",
              "\n",
              "<style>\n",
              "  .colab-df-quickchart {\n",
              "      --bg-color: #E8F0FE;\n",
              "      --fill-color: #1967D2;\n",
              "      --hover-bg-color: #E2EBFA;\n",
              "      --hover-fill-color: #174EA6;\n",
              "      --disabled-fill-color: #AAA;\n",
              "      --disabled-bg-color: #DDD;\n",
              "  }\n",
              "\n",
              "  [theme=dark] .colab-df-quickchart {\n",
              "      --bg-color: #3B4455;\n",
              "      --fill-color: #D2E3FC;\n",
              "      --hover-bg-color: #434B5C;\n",
              "      --hover-fill-color: #FFFFFF;\n",
              "      --disabled-bg-color: #3B4455;\n",
              "      --disabled-fill-color: #666;\n",
              "  }\n",
              "\n",
              "  .colab-df-quickchart {\n",
              "    background-color: var(--bg-color);\n",
              "    border: none;\n",
              "    border-radius: 50%;\n",
              "    cursor: pointer;\n",
              "    display: none;\n",
              "    fill: var(--fill-color);\n",
              "    height: 32px;\n",
              "    padding: 0;\n",
              "    width: 32px;\n",
              "  }\n",
              "\n",
              "  .colab-df-quickchart:hover {\n",
              "    background-color: var(--hover-bg-color);\n",
              "    box-shadow: 0 1px 2px rgba(60, 64, 67, 0.3), 0 1px 3px 1px rgba(60, 64, 67, 0.15);\n",
              "    fill: var(--button-hover-fill-color);\n",
              "  }\n",
              "\n",
              "  .colab-df-quickchart-complete:disabled,\n",
              "  .colab-df-quickchart-complete:disabled:hover {\n",
              "    background-color: var(--disabled-bg-color);\n",
              "    fill: var(--disabled-fill-color);\n",
              "    box-shadow: none;\n",
              "  }\n",
              "\n",
              "  .colab-df-spinner {\n",
              "    border: 2px solid var(--fill-color);\n",
              "    border-color: transparent;\n",
              "    border-bottom-color: var(--fill-color);\n",
              "    animation:\n",
              "      spin 1s steps(1) infinite;\n",
              "  }\n",
              "\n",
              "  @keyframes spin {\n",
              "    0% {\n",
              "      border-color: transparent;\n",
              "      border-bottom-color: var(--fill-color);\n",
              "      border-left-color: var(--fill-color);\n",
              "    }\n",
              "    20% {\n",
              "      border-color: transparent;\n",
              "      border-left-color: var(--fill-color);\n",
              "      border-top-color: var(--fill-color);\n",
              "    }\n",
              "    30% {\n",
              "      border-color: transparent;\n",
              "      border-left-color: var(--fill-color);\n",
              "      border-top-color: var(--fill-color);\n",
              "      border-right-color: var(--fill-color);\n",
              "    }\n",
              "    40% {\n",
              "      border-color: transparent;\n",
              "      border-right-color: var(--fill-color);\n",
              "      border-top-color: var(--fill-color);\n",
              "    }\n",
              "    60% {\n",
              "      border-color: transparent;\n",
              "      border-right-color: var(--fill-color);\n",
              "    }\n",
              "    80% {\n",
              "      border-color: transparent;\n",
              "      border-right-color: var(--fill-color);\n",
              "      border-bottom-color: var(--fill-color);\n",
              "    }\n",
              "    90% {\n",
              "      border-color: transparent;\n",
              "      border-bottom-color: var(--fill-color);\n",
              "    }\n",
              "  }\n",
              "</style>\n",
              "\n",
              "  <script>\n",
              "    async function quickchart(key) {\n",
              "      const quickchartButtonEl =\n",
              "        document.querySelector('#' + key + ' button');\n",
              "      quickchartButtonEl.disabled = true;  // To prevent multiple clicks.\n",
              "      quickchartButtonEl.classList.add('colab-df-spinner');\n",
              "      try {\n",
              "        const charts = await google.colab.kernel.invokeFunction(\n",
              "            'suggestCharts', [key], {});\n",
              "      } catch (error) {\n",
              "        console.error('Error during call to suggestCharts:', error);\n",
              "      }\n",
              "      quickchartButtonEl.classList.remove('colab-df-spinner');\n",
              "      quickchartButtonEl.classList.add('colab-df-quickchart-complete');\n",
              "    }\n",
              "    (() => {\n",
              "      let quickchartButtonEl =\n",
              "        document.querySelector('#df-4eba5592-a4af-4303-adf5-06bda01c7246 button');\n",
              "      quickchartButtonEl.style.display =\n",
              "        google.colab.kernel.accessAllowed ? 'block' : 'none';\n",
              "    })();\n",
              "  </script>\n",
              "</div>\n",
              "\n",
              "  <div id=\"id_d5de08c0-e389-4bce-8057-112e1b30f2ce\">\n",
              "    <style>\n",
              "      .colab-df-generate {\n",
              "        background-color: #E8F0FE;\n",
              "        border: none;\n",
              "        border-radius: 50%;\n",
              "        cursor: pointer;\n",
              "        display: none;\n",
              "        fill: #1967D2;\n",
              "        height: 32px;\n",
              "        padding: 0 0 0 0;\n",
              "        width: 32px;\n",
              "      }\n",
              "\n",
              "      .colab-df-generate:hover {\n",
              "        background-color: #E2EBFA;\n",
              "        box-shadow: 0px 1px 2px rgba(60, 64, 67, 0.3), 0px 1px 3px 1px rgba(60, 64, 67, 0.15);\n",
              "        fill: #174EA6;\n",
              "      }\n",
              "\n",
              "      [theme=dark] .colab-df-generate {\n",
              "        background-color: #3B4455;\n",
              "        fill: #D2E3FC;\n",
              "      }\n",
              "\n",
              "      [theme=dark] .colab-df-generate:hover {\n",
              "        background-color: #434B5C;\n",
              "        box-shadow: 0px 1px 3px 1px rgba(0, 0, 0, 0.15);\n",
              "        filter: drop-shadow(0px 1px 2px rgba(0, 0, 0, 0.3));\n",
              "        fill: #FFFFFF;\n",
              "      }\n",
              "    </style>\n",
              "    <button class=\"colab-df-generate\" onclick=\"generateWithVariable('train_df')\"\n",
              "            title=\"Generate code using this dataframe.\"\n",
              "            style=\"display:none;\">\n",
              "\n",
              "  <svg xmlns=\"http://www.w3.org/2000/svg\" height=\"24px\"viewBox=\"0 0 24 24\"\n",
              "       width=\"24px\">\n",
              "    <path d=\"M7,19H8.4L18.45,9,17,7.55,7,17.6ZM5,21V16.75L18.45,3.32a2,2,0,0,1,2.83,0l1.4,1.43a1.91,1.91,0,0,1,.58,1.4,1.91,1.91,0,0,1-.58,1.4L9.25,21ZM18.45,9,17,7.55Zm-12,3A5.31,5.31,0,0,0,4.9,8.1,5.31,5.31,0,0,0,1,6.5,5.31,5.31,0,0,0,4.9,4.9,5.31,5.31,0,0,0,6.5,1,5.31,5.31,0,0,0,8.1,4.9,5.31,5.31,0,0,0,12,6.5,5.46,5.46,0,0,0,6.5,12Z\"/>\n",
              "  </svg>\n",
              "    </button>\n",
              "    <script>\n",
              "      (() => {\n",
              "      const buttonEl =\n",
              "        document.querySelector('#id_d5de08c0-e389-4bce-8057-112e1b30f2ce button.colab-df-generate');\n",
              "      buttonEl.style.display =\n",
              "        google.colab.kernel.accessAllowed ? 'block' : 'none';\n",
              "\n",
              "      buttonEl.onclick = () => {\n",
              "        google.colab.notebook.generateWithVariable('train_df');\n",
              "      }\n",
              "      })();\n",
              "    </script>\n",
              "  </div>\n",
              "\n",
              "    </div>\n",
              "  </div>\n"
            ],
            "application/vnd.google.colaboratory.intrinsic+json": {
              "type": "dataframe",
              "variable_name": "train_df",
              "summary": "{\n  \"name\": \"train_df\",\n  \"rows\": 7613,\n  \"fields\": [\n    {\n      \"column\": \"id\",\n      \"properties\": {\n        \"dtype\": \"number\",\n        \"std\": 3137,\n        \"min\": 1,\n        \"max\": 10873,\n        \"num_unique_values\": 7613,\n        \"samples\": [\n          3796,\n          3185,\n          7769\n        ],\n        \"semantic_type\": \"\",\n        \"description\": \"\"\n      }\n    },\n    {\n      \"column\": \"keyword\",\n      \"properties\": {\n        \"dtype\": \"category\",\n        \"num_unique_values\": 221,\n        \"samples\": [\n          \"injury\",\n          \"nuclear%20reactor\",\n          \"engulfed\"\n        ],\n        \"semantic_type\": \"\",\n        \"description\": \"\"\n      }\n    },\n    {\n      \"column\": \"location\",\n      \"properties\": {\n        \"dtype\": \"category\",\n        \"num_unique_values\": 3341,\n        \"samples\": [\n          \"Oklahoma\",\n          \"Starling City\",\n          \"Trinidad and Tobago\"\n        ],\n        \"semantic_type\": \"\",\n        \"description\": \"\"\n      }\n    },\n    {\n      \"column\": \"text\",\n      \"properties\": {\n        \"dtype\": \"string\",\n        \"num_unique_values\": 7503,\n        \"samples\": [\n          \"Three Homes Demolished in Unrecognized Arab Village - International Middle East Media Center http://t.co/ik8m4Yi9T4\",\n          \"Reid Lake fire prompts campground evacuation order http://t.co/jBODKM6rBU\",\n          \"FAAN orders evacuation of abandoned aircraft at MMA http://t.co/dEvYbnVXGQ via @todayng\"\n        ],\n        \"semantic_type\": \"\",\n        \"description\": \"\"\n      }\n    },\n    {\n      \"column\": \"target\",\n      \"properties\": {\n        \"dtype\": \"number\",\n        \"std\": 0,\n        \"min\": 0,\n        \"max\": 1,\n        \"num_unique_values\": 2,\n        \"samples\": [\n          0,\n          1\n        ],\n        \"semantic_type\": \"\",\n        \"description\": \"\"\n      }\n    },\n    {\n      \"column\": \"clean_text\",\n      \"properties\": {\n        \"dtype\": \"string\",\n        \"num_unique_values\": 6904,\n        \"samples\": [\n          \"BaseballQuotes1 I have a  inch dynasty\",\n          \"Here   s what caused a Metro train to derail in downtown D.C.\"\n        ],\n        \"semantic_type\": \"\",\n        \"description\": \"\"\n      }\n    }\n  ]\n}"
            }
          },
          "metadata": {},
          "execution_count": 14
        }
      ]
    },
    {
      "cell_type": "code",
      "source": [
        "train_df.at[21,\"text\"]"
      ],
      "metadata": {
        "papermill": {
          "duration": 0.021431,
          "end_time": "2024-05-12T07:34:39.366205",
          "exception": false,
          "start_time": "2024-05-12T07:34:39.344774",
          "status": "completed"
        },
        "tags": [],
        "execution": {
          "iopub.status.busy": "2024-05-13T00:27:06.430024Z",
          "iopub.execute_input": "2024-05-13T00:27:06.431281Z",
          "iopub.status.idle": "2024-05-13T00:27:06.444737Z",
          "shell.execute_reply.started": "2024-05-13T00:27:06.431229Z",
          "shell.execute_reply": "2024-05-13T00:27:06.443495Z"
        },
        "trusted": true,
        "id": "4DQwzIYwlkVC",
        "colab": {
          "base_uri": "https://localhost:8080/",
          "height": 36
        },
        "outputId": "4c470797-37a1-4d11-882b-58c3fa2c92a0"
      },
      "execution_count": 15,
      "outputs": [
        {
          "output_type": "execute_result",
          "data": {
            "text/plain": [
              "'London is cool ;)'"
            ],
            "application/vnd.google.colaboratory.intrinsic+json": {
              "type": "string"
            }
          },
          "metadata": {},
          "execution_count": 15
        }
      ]
    },
    {
      "cell_type": "code",
      "source": [
        "train_df.at[21,\"clean_text\"]"
      ],
      "metadata": {
        "papermill": {
          "duration": 0.022014,
          "end_time": "2024-05-12T07:34:39.398395",
          "exception": false,
          "start_time": "2024-05-12T07:34:39.376381",
          "status": "completed"
        },
        "tags": [],
        "execution": {
          "iopub.status.busy": "2024-05-13T00:27:06.44634Z",
          "iopub.execute_input": "2024-05-13T00:27:06.447545Z",
          "iopub.status.idle": "2024-05-13T00:27:06.463088Z",
          "shell.execute_reply.started": "2024-05-13T00:27:06.447474Z",
          "shell.execute_reply": "2024-05-13T00:27:06.461383Z"
        },
        "trusted": true,
        "id": "U9_yt3CGlkVD",
        "colab": {
          "base_uri": "https://localhost:8080/",
          "height": 36
        },
        "outputId": "55f814d5-fb41-4af0-aa02-c3ed7e9b1b2f"
      },
      "execution_count": 16,
      "outputs": [
        {
          "output_type": "execute_result",
          "data": {
            "text/plain": [
              "'London is cool'"
            ],
            "application/vnd.google.colaboratory.intrinsic+json": {
              "type": "string"
            }
          },
          "metadata": {},
          "execution_count": 16
        }
      ]
    },
    {
      "cell_type": "code",
      "source": [
        "preprocess_data=lambda text:preprocess_text(text)\n",
        "train_df[\"text_prepro\"]=train_df[\"clean_text\"].apply(preprocess_data)"
      ],
      "metadata": {
        "papermill": {
          "duration": 4.922981,
          "end_time": "2024-05-12T07:34:44.332404",
          "exception": false,
          "start_time": "2024-05-12T07:34:39.409423",
          "status": "completed"
        },
        "tags": [],
        "execution": {
          "iopub.status.busy": "2024-05-13T00:27:06.465174Z",
          "iopub.execute_input": "2024-05-13T00:27:06.46642Z",
          "iopub.status.idle": "2024-05-13T00:27:13.184393Z",
          "shell.execute_reply.started": "2024-05-13T00:27:06.466378Z",
          "shell.execute_reply": "2024-05-13T00:27:13.182964Z"
        },
        "trusted": true,
        "id": "VpHOQXJ-lkVD"
      },
      "execution_count": 17,
      "outputs": []
    },
    {
      "cell_type": "code",
      "source": [
        "train_df"
      ],
      "metadata": {
        "papermill": {
          "duration": 0.030225,
          "end_time": "2024-05-12T07:34:44.373001",
          "exception": false,
          "start_time": "2024-05-12T07:34:44.342776",
          "status": "completed"
        },
        "tags": [],
        "execution": {
          "iopub.status.busy": "2024-05-13T00:27:13.190261Z",
          "iopub.execute_input": "2024-05-13T00:27:13.190698Z",
          "iopub.status.idle": "2024-05-13T00:27:13.210516Z",
          "shell.execute_reply.started": "2024-05-13T00:27:13.190663Z",
          "shell.execute_reply": "2024-05-13T00:27:13.209129Z"
        },
        "trusted": true,
        "id": "X1PisquKlkVE",
        "colab": {
          "base_uri": "https://localhost:8080/",
          "height": 423
        },
        "outputId": "d249abfd-a14a-4577-b647-0c7a4d26c36b"
      },
      "execution_count": 18,
      "outputs": [
        {
          "output_type": "execute_result",
          "data": {
            "text/plain": [
              "         id keyword location  \\\n",
              "0         1     NaN      NaN   \n",
              "1         4     NaN      NaN   \n",
              "2         5     NaN      NaN   \n",
              "3         6     NaN      NaN   \n",
              "4         7     NaN      NaN   \n",
              "...     ...     ...      ...   \n",
              "7608  10869     NaN      NaN   \n",
              "7609  10870     NaN      NaN   \n",
              "7610  10871     NaN      NaN   \n",
              "7611  10872     NaN      NaN   \n",
              "7612  10873     NaN      NaN   \n",
              "\n",
              "                                                   text  target  \\\n",
              "0     Our Deeds are the Reason of this #earthquake M...       1   \n",
              "1                Forest fire near La Ronge Sask. Canada       1   \n",
              "2     All residents asked to 'shelter in place' are ...       1   \n",
              "3     13,000 people receive #wildfires evacuation or...       1   \n",
              "4     Just got sent this photo from Ruby #Alaska as ...       1   \n",
              "...                                                 ...     ...   \n",
              "7608  Two giant cranes holding a bridge collapse int...       1   \n",
              "7609  @aria_ahrary @TheTawniest The out of control w...       1   \n",
              "7610  M1.94 [01:04 UTC]?5km S of Volcano Hawaii. htt...       1   \n",
              "7611  Police investigating after an e-bike collided ...       1   \n",
              "7612  The Latest: More Homes Razed by Northern Calif...       1   \n",
              "\n",
              "                                             clean_text  \\\n",
              "0     Our Deeds are the Reason of this earthquake Ma...   \n",
              "1                Forest fire near La Ronge Sask. Canada   \n",
              "2     All residents asked to shelter in place are be...   \n",
              "3     people receive wildfires evacuation orders in ...   \n",
              "4     Just got sent this photo from Ruby Alaska as s...   \n",
              "...                                                 ...   \n",
              "7608  Two giant cranes holding a bridge collapse int...   \n",
              "7609  ariaahrary TheTawniest The out of control wild...   \n",
              "7610                    M1. UTC5km S of Volcano Hawaii.   \n",
              "7611  Police investigating after an ebike collided w...   \n",
              "7612  The Latest More Homes Razed by Northern Califo...   \n",
              "\n",
              "                                            text_prepro  \n",
              "0             deed reason earthquak may allah forgiv us  \n",
              "1                forest fire near la rong sask . canada  \n",
              "2     resid ask shelter place notifi offic . evacu s...  \n",
              "3           peopl receiv wildfir evacu order california  \n",
              "4     got sent photo rubi alaska smoke wildfir pour ...  \n",
              "...                                                 ...  \n",
              "7608     two giant crane hold bridg collaps nearbi home  \n",
              "7609  ariaahrari thetawniest control wild fire calif...  \n",
              "7610                       m1 . utc5km volcano hawaii .  \n",
              "7611  polic investig ebik collid car littl portug . ...  \n",
              "7612  latest home raze northern california wildfir a...  \n",
              "\n",
              "[7613 rows x 7 columns]"
            ],
            "text/html": [
              "\n",
              "  <div id=\"df-901438d2-e0cb-416b-81c5-f636865246f4\" class=\"colab-df-container\">\n",
              "    <div>\n",
              "<style scoped>\n",
              "    .dataframe tbody tr th:only-of-type {\n",
              "        vertical-align: middle;\n",
              "    }\n",
              "\n",
              "    .dataframe tbody tr th {\n",
              "        vertical-align: top;\n",
              "    }\n",
              "\n",
              "    .dataframe thead th {\n",
              "        text-align: right;\n",
              "    }\n",
              "</style>\n",
              "<table border=\"1\" class=\"dataframe\">\n",
              "  <thead>\n",
              "    <tr style=\"text-align: right;\">\n",
              "      <th></th>\n",
              "      <th>id</th>\n",
              "      <th>keyword</th>\n",
              "      <th>location</th>\n",
              "      <th>text</th>\n",
              "      <th>target</th>\n",
              "      <th>clean_text</th>\n",
              "      <th>text_prepro</th>\n",
              "    </tr>\n",
              "  </thead>\n",
              "  <tbody>\n",
              "    <tr>\n",
              "      <th>0</th>\n",
              "      <td>1</td>\n",
              "      <td>NaN</td>\n",
              "      <td>NaN</td>\n",
              "      <td>Our Deeds are the Reason of this #earthquake M...</td>\n",
              "      <td>1</td>\n",
              "      <td>Our Deeds are the Reason of this earthquake Ma...</td>\n",
              "      <td>deed reason earthquak may allah forgiv us</td>\n",
              "    </tr>\n",
              "    <tr>\n",
              "      <th>1</th>\n",
              "      <td>4</td>\n",
              "      <td>NaN</td>\n",
              "      <td>NaN</td>\n",
              "      <td>Forest fire near La Ronge Sask. Canada</td>\n",
              "      <td>1</td>\n",
              "      <td>Forest fire near La Ronge Sask. Canada</td>\n",
              "      <td>forest fire near la rong sask . canada</td>\n",
              "    </tr>\n",
              "    <tr>\n",
              "      <th>2</th>\n",
              "      <td>5</td>\n",
              "      <td>NaN</td>\n",
              "      <td>NaN</td>\n",
              "      <td>All residents asked to 'shelter in place' are ...</td>\n",
              "      <td>1</td>\n",
              "      <td>All residents asked to shelter in place are be...</td>\n",
              "      <td>resid ask shelter place notifi offic . evacu s...</td>\n",
              "    </tr>\n",
              "    <tr>\n",
              "      <th>3</th>\n",
              "      <td>6</td>\n",
              "      <td>NaN</td>\n",
              "      <td>NaN</td>\n",
              "      <td>13,000 people receive #wildfires evacuation or...</td>\n",
              "      <td>1</td>\n",
              "      <td>people receive wildfires evacuation orders in ...</td>\n",
              "      <td>peopl receiv wildfir evacu order california</td>\n",
              "    </tr>\n",
              "    <tr>\n",
              "      <th>4</th>\n",
              "      <td>7</td>\n",
              "      <td>NaN</td>\n",
              "      <td>NaN</td>\n",
              "      <td>Just got sent this photo from Ruby #Alaska as ...</td>\n",
              "      <td>1</td>\n",
              "      <td>Just got sent this photo from Ruby Alaska as s...</td>\n",
              "      <td>got sent photo rubi alaska smoke wildfir pour ...</td>\n",
              "    </tr>\n",
              "    <tr>\n",
              "      <th>...</th>\n",
              "      <td>...</td>\n",
              "      <td>...</td>\n",
              "      <td>...</td>\n",
              "      <td>...</td>\n",
              "      <td>...</td>\n",
              "      <td>...</td>\n",
              "      <td>...</td>\n",
              "    </tr>\n",
              "    <tr>\n",
              "      <th>7608</th>\n",
              "      <td>10869</td>\n",
              "      <td>NaN</td>\n",
              "      <td>NaN</td>\n",
              "      <td>Two giant cranes holding a bridge collapse int...</td>\n",
              "      <td>1</td>\n",
              "      <td>Two giant cranes holding a bridge collapse int...</td>\n",
              "      <td>two giant crane hold bridg collaps nearbi home</td>\n",
              "    </tr>\n",
              "    <tr>\n",
              "      <th>7609</th>\n",
              "      <td>10870</td>\n",
              "      <td>NaN</td>\n",
              "      <td>NaN</td>\n",
              "      <td>@aria_ahrary @TheTawniest The out of control w...</td>\n",
              "      <td>1</td>\n",
              "      <td>ariaahrary TheTawniest The out of control wild...</td>\n",
              "      <td>ariaahrari thetawniest control wild fire calif...</td>\n",
              "    </tr>\n",
              "    <tr>\n",
              "      <th>7610</th>\n",
              "      <td>10871</td>\n",
              "      <td>NaN</td>\n",
              "      <td>NaN</td>\n",
              "      <td>M1.94 [01:04 UTC]?5km S of Volcano Hawaii. htt...</td>\n",
              "      <td>1</td>\n",
              "      <td>M1. UTC5km S of Volcano Hawaii.</td>\n",
              "      <td>m1 . utc5km volcano hawaii .</td>\n",
              "    </tr>\n",
              "    <tr>\n",
              "      <th>7611</th>\n",
              "      <td>10872</td>\n",
              "      <td>NaN</td>\n",
              "      <td>NaN</td>\n",
              "      <td>Police investigating after an e-bike collided ...</td>\n",
              "      <td>1</td>\n",
              "      <td>Police investigating after an ebike collided w...</td>\n",
              "      <td>polic investig ebik collid car littl portug . ...</td>\n",
              "    </tr>\n",
              "    <tr>\n",
              "      <th>7612</th>\n",
              "      <td>10873</td>\n",
              "      <td>NaN</td>\n",
              "      <td>NaN</td>\n",
              "      <td>The Latest: More Homes Razed by Northern Calif...</td>\n",
              "      <td>1</td>\n",
              "      <td>The Latest More Homes Razed by Northern Califo...</td>\n",
              "      <td>latest home raze northern california wildfir a...</td>\n",
              "    </tr>\n",
              "  </tbody>\n",
              "</table>\n",
              "<p>7613 rows × 7 columns</p>\n",
              "</div>\n",
              "    <div class=\"colab-df-buttons\">\n",
              "\n",
              "  <div class=\"colab-df-container\">\n",
              "    <button class=\"colab-df-convert\" onclick=\"convertToInteractive('df-901438d2-e0cb-416b-81c5-f636865246f4')\"\n",
              "            title=\"Convert this dataframe to an interactive table.\"\n",
              "            style=\"display:none;\">\n",
              "\n",
              "  <svg xmlns=\"http://www.w3.org/2000/svg\" height=\"24px\" viewBox=\"0 -960 960 960\">\n",
              "    <path d=\"M120-120v-720h720v720H120Zm60-500h600v-160H180v160Zm220 220h160v-160H400v160Zm0 220h160v-160H400v160ZM180-400h160v-160H180v160Zm440 0h160v-160H620v160ZM180-180h160v-160H180v160Zm440 0h160v-160H620v160Z\"/>\n",
              "  </svg>\n",
              "    </button>\n",
              "\n",
              "  <style>\n",
              "    .colab-df-container {\n",
              "      display:flex;\n",
              "      gap: 12px;\n",
              "    }\n",
              "\n",
              "    .colab-df-convert {\n",
              "      background-color: #E8F0FE;\n",
              "      border: none;\n",
              "      border-radius: 50%;\n",
              "      cursor: pointer;\n",
              "      display: none;\n",
              "      fill: #1967D2;\n",
              "      height: 32px;\n",
              "      padding: 0 0 0 0;\n",
              "      width: 32px;\n",
              "    }\n",
              "\n",
              "    .colab-df-convert:hover {\n",
              "      background-color: #E2EBFA;\n",
              "      box-shadow: 0px 1px 2px rgba(60, 64, 67, 0.3), 0px 1px 3px 1px rgba(60, 64, 67, 0.15);\n",
              "      fill: #174EA6;\n",
              "    }\n",
              "\n",
              "    .colab-df-buttons div {\n",
              "      margin-bottom: 4px;\n",
              "    }\n",
              "\n",
              "    [theme=dark] .colab-df-convert {\n",
              "      background-color: #3B4455;\n",
              "      fill: #D2E3FC;\n",
              "    }\n",
              "\n",
              "    [theme=dark] .colab-df-convert:hover {\n",
              "      background-color: #434B5C;\n",
              "      box-shadow: 0px 1px 3px 1px rgba(0, 0, 0, 0.15);\n",
              "      filter: drop-shadow(0px 1px 2px rgba(0, 0, 0, 0.3));\n",
              "      fill: #FFFFFF;\n",
              "    }\n",
              "  </style>\n",
              "\n",
              "    <script>\n",
              "      const buttonEl =\n",
              "        document.querySelector('#df-901438d2-e0cb-416b-81c5-f636865246f4 button.colab-df-convert');\n",
              "      buttonEl.style.display =\n",
              "        google.colab.kernel.accessAllowed ? 'block' : 'none';\n",
              "\n",
              "      async function convertToInteractive(key) {\n",
              "        const element = document.querySelector('#df-901438d2-e0cb-416b-81c5-f636865246f4');\n",
              "        const dataTable =\n",
              "          await google.colab.kernel.invokeFunction('convertToInteractive',\n",
              "                                                    [key], {});\n",
              "        if (!dataTable) return;\n",
              "\n",
              "        const docLinkHtml = 'Like what you see? Visit the ' +\n",
              "          '<a target=\"_blank\" href=https://colab.research.google.com/notebooks/data_table.ipynb>data table notebook</a>'\n",
              "          + ' to learn more about interactive tables.';\n",
              "        element.innerHTML = '';\n",
              "        dataTable['output_type'] = 'display_data';\n",
              "        await google.colab.output.renderOutput(dataTable, element);\n",
              "        const docLink = document.createElement('div');\n",
              "        docLink.innerHTML = docLinkHtml;\n",
              "        element.appendChild(docLink);\n",
              "      }\n",
              "    </script>\n",
              "  </div>\n",
              "\n",
              "\n",
              "<div id=\"df-05b51580-f375-490e-8a57-c6368a09d1ef\">\n",
              "  <button class=\"colab-df-quickchart\" onclick=\"quickchart('df-05b51580-f375-490e-8a57-c6368a09d1ef')\"\n",
              "            title=\"Suggest charts\"\n",
              "            style=\"display:none;\">\n",
              "\n",
              "<svg xmlns=\"http://www.w3.org/2000/svg\" height=\"24px\"viewBox=\"0 0 24 24\"\n",
              "     width=\"24px\">\n",
              "    <g>\n",
              "        <path d=\"M19 3H5c-1.1 0-2 .9-2 2v14c0 1.1.9 2 2 2h14c1.1 0 2-.9 2-2V5c0-1.1-.9-2-2-2zM9 17H7v-7h2v7zm4 0h-2V7h2v10zm4 0h-2v-4h2v4z\"/>\n",
              "    </g>\n",
              "</svg>\n",
              "  </button>\n",
              "\n",
              "<style>\n",
              "  .colab-df-quickchart {\n",
              "      --bg-color: #E8F0FE;\n",
              "      --fill-color: #1967D2;\n",
              "      --hover-bg-color: #E2EBFA;\n",
              "      --hover-fill-color: #174EA6;\n",
              "      --disabled-fill-color: #AAA;\n",
              "      --disabled-bg-color: #DDD;\n",
              "  }\n",
              "\n",
              "  [theme=dark] .colab-df-quickchart {\n",
              "      --bg-color: #3B4455;\n",
              "      --fill-color: #D2E3FC;\n",
              "      --hover-bg-color: #434B5C;\n",
              "      --hover-fill-color: #FFFFFF;\n",
              "      --disabled-bg-color: #3B4455;\n",
              "      --disabled-fill-color: #666;\n",
              "  }\n",
              "\n",
              "  .colab-df-quickchart {\n",
              "    background-color: var(--bg-color);\n",
              "    border: none;\n",
              "    border-radius: 50%;\n",
              "    cursor: pointer;\n",
              "    display: none;\n",
              "    fill: var(--fill-color);\n",
              "    height: 32px;\n",
              "    padding: 0;\n",
              "    width: 32px;\n",
              "  }\n",
              "\n",
              "  .colab-df-quickchart:hover {\n",
              "    background-color: var(--hover-bg-color);\n",
              "    box-shadow: 0 1px 2px rgba(60, 64, 67, 0.3), 0 1px 3px 1px rgba(60, 64, 67, 0.15);\n",
              "    fill: var(--button-hover-fill-color);\n",
              "  }\n",
              "\n",
              "  .colab-df-quickchart-complete:disabled,\n",
              "  .colab-df-quickchart-complete:disabled:hover {\n",
              "    background-color: var(--disabled-bg-color);\n",
              "    fill: var(--disabled-fill-color);\n",
              "    box-shadow: none;\n",
              "  }\n",
              "\n",
              "  .colab-df-spinner {\n",
              "    border: 2px solid var(--fill-color);\n",
              "    border-color: transparent;\n",
              "    border-bottom-color: var(--fill-color);\n",
              "    animation:\n",
              "      spin 1s steps(1) infinite;\n",
              "  }\n",
              "\n",
              "  @keyframes spin {\n",
              "    0% {\n",
              "      border-color: transparent;\n",
              "      border-bottom-color: var(--fill-color);\n",
              "      border-left-color: var(--fill-color);\n",
              "    }\n",
              "    20% {\n",
              "      border-color: transparent;\n",
              "      border-left-color: var(--fill-color);\n",
              "      border-top-color: var(--fill-color);\n",
              "    }\n",
              "    30% {\n",
              "      border-color: transparent;\n",
              "      border-left-color: var(--fill-color);\n",
              "      border-top-color: var(--fill-color);\n",
              "      border-right-color: var(--fill-color);\n",
              "    }\n",
              "    40% {\n",
              "      border-color: transparent;\n",
              "      border-right-color: var(--fill-color);\n",
              "      border-top-color: var(--fill-color);\n",
              "    }\n",
              "    60% {\n",
              "      border-color: transparent;\n",
              "      border-right-color: var(--fill-color);\n",
              "    }\n",
              "    80% {\n",
              "      border-color: transparent;\n",
              "      border-right-color: var(--fill-color);\n",
              "      border-bottom-color: var(--fill-color);\n",
              "    }\n",
              "    90% {\n",
              "      border-color: transparent;\n",
              "      border-bottom-color: var(--fill-color);\n",
              "    }\n",
              "  }\n",
              "</style>\n",
              "\n",
              "  <script>\n",
              "    async function quickchart(key) {\n",
              "      const quickchartButtonEl =\n",
              "        document.querySelector('#' + key + ' button');\n",
              "      quickchartButtonEl.disabled = true;  // To prevent multiple clicks.\n",
              "      quickchartButtonEl.classList.add('colab-df-spinner');\n",
              "      try {\n",
              "        const charts = await google.colab.kernel.invokeFunction(\n",
              "            'suggestCharts', [key], {});\n",
              "      } catch (error) {\n",
              "        console.error('Error during call to suggestCharts:', error);\n",
              "      }\n",
              "      quickchartButtonEl.classList.remove('colab-df-spinner');\n",
              "      quickchartButtonEl.classList.add('colab-df-quickchart-complete');\n",
              "    }\n",
              "    (() => {\n",
              "      let quickchartButtonEl =\n",
              "        document.querySelector('#df-05b51580-f375-490e-8a57-c6368a09d1ef button');\n",
              "      quickchartButtonEl.style.display =\n",
              "        google.colab.kernel.accessAllowed ? 'block' : 'none';\n",
              "    })();\n",
              "  </script>\n",
              "</div>\n",
              "\n",
              "  <div id=\"id_11366c0e-b951-44d4-be02-d0e5f4d7b65d\">\n",
              "    <style>\n",
              "      .colab-df-generate {\n",
              "        background-color: #E8F0FE;\n",
              "        border: none;\n",
              "        border-radius: 50%;\n",
              "        cursor: pointer;\n",
              "        display: none;\n",
              "        fill: #1967D2;\n",
              "        height: 32px;\n",
              "        padding: 0 0 0 0;\n",
              "        width: 32px;\n",
              "      }\n",
              "\n",
              "      .colab-df-generate:hover {\n",
              "        background-color: #E2EBFA;\n",
              "        box-shadow: 0px 1px 2px rgba(60, 64, 67, 0.3), 0px 1px 3px 1px rgba(60, 64, 67, 0.15);\n",
              "        fill: #174EA6;\n",
              "      }\n",
              "\n",
              "      [theme=dark] .colab-df-generate {\n",
              "        background-color: #3B4455;\n",
              "        fill: #D2E3FC;\n",
              "      }\n",
              "\n",
              "      [theme=dark] .colab-df-generate:hover {\n",
              "        background-color: #434B5C;\n",
              "        box-shadow: 0px 1px 3px 1px rgba(0, 0, 0, 0.15);\n",
              "        filter: drop-shadow(0px 1px 2px rgba(0, 0, 0, 0.3));\n",
              "        fill: #FFFFFF;\n",
              "      }\n",
              "    </style>\n",
              "    <button class=\"colab-df-generate\" onclick=\"generateWithVariable('train_df')\"\n",
              "            title=\"Generate code using this dataframe.\"\n",
              "            style=\"display:none;\">\n",
              "\n",
              "  <svg xmlns=\"http://www.w3.org/2000/svg\" height=\"24px\"viewBox=\"0 0 24 24\"\n",
              "       width=\"24px\">\n",
              "    <path d=\"M7,19H8.4L18.45,9,17,7.55,7,17.6ZM5,21V16.75L18.45,3.32a2,2,0,0,1,2.83,0l1.4,1.43a1.91,1.91,0,0,1,.58,1.4,1.91,1.91,0,0,1-.58,1.4L9.25,21ZM18.45,9,17,7.55Zm-12,3A5.31,5.31,0,0,0,4.9,8.1,5.31,5.31,0,0,0,1,6.5,5.31,5.31,0,0,0,4.9,4.9,5.31,5.31,0,0,0,6.5,1,5.31,5.31,0,0,0,8.1,4.9,5.31,5.31,0,0,0,12,6.5,5.46,5.46,0,0,0,6.5,12Z\"/>\n",
              "  </svg>\n",
              "    </button>\n",
              "    <script>\n",
              "      (() => {\n",
              "      const buttonEl =\n",
              "        document.querySelector('#id_11366c0e-b951-44d4-be02-d0e5f4d7b65d button.colab-df-generate');\n",
              "      buttonEl.style.display =\n",
              "        google.colab.kernel.accessAllowed ? 'block' : 'none';\n",
              "\n",
              "      buttonEl.onclick = () => {\n",
              "        google.colab.notebook.generateWithVariable('train_df');\n",
              "      }\n",
              "      })();\n",
              "    </script>\n",
              "  </div>\n",
              "\n",
              "    </div>\n",
              "  </div>\n"
            ],
            "application/vnd.google.colaboratory.intrinsic+json": {
              "type": "dataframe",
              "variable_name": "train_df",
              "summary": "{\n  \"name\": \"train_df\",\n  \"rows\": 7613,\n  \"fields\": [\n    {\n      \"column\": \"id\",\n      \"properties\": {\n        \"dtype\": \"number\",\n        \"std\": 3137,\n        \"min\": 1,\n        \"max\": 10873,\n        \"num_unique_values\": 7613,\n        \"samples\": [\n          3796,\n          3185,\n          7769\n        ],\n        \"semantic_type\": \"\",\n        \"description\": \"\"\n      }\n    },\n    {\n      \"column\": \"keyword\",\n      \"properties\": {\n        \"dtype\": \"category\",\n        \"num_unique_values\": 221,\n        \"samples\": [\n          \"injury\",\n          \"nuclear%20reactor\",\n          \"engulfed\"\n        ],\n        \"semantic_type\": \"\",\n        \"description\": \"\"\n      }\n    },\n    {\n      \"column\": \"location\",\n      \"properties\": {\n        \"dtype\": \"category\",\n        \"num_unique_values\": 3341,\n        \"samples\": [\n          \"Oklahoma\",\n          \"Starling City\",\n          \"Trinidad and Tobago\"\n        ],\n        \"semantic_type\": \"\",\n        \"description\": \"\"\n      }\n    },\n    {\n      \"column\": \"text\",\n      \"properties\": {\n        \"dtype\": \"string\",\n        \"num_unique_values\": 7503,\n        \"samples\": [\n          \"Three Homes Demolished in Unrecognized Arab Village - International Middle East Media Center http://t.co/ik8m4Yi9T4\",\n          \"Reid Lake fire prompts campground evacuation order http://t.co/jBODKM6rBU\",\n          \"FAAN orders evacuation of abandoned aircraft at MMA http://t.co/dEvYbnVXGQ via @todayng\"\n        ],\n        \"semantic_type\": \"\",\n        \"description\": \"\"\n      }\n    },\n    {\n      \"column\": \"target\",\n      \"properties\": {\n        \"dtype\": \"number\",\n        \"std\": 0,\n        \"min\": 0,\n        \"max\": 1,\n        \"num_unique_values\": 2,\n        \"samples\": [\n          0,\n          1\n        ],\n        \"semantic_type\": \"\",\n        \"description\": \"\"\n      }\n    },\n    {\n      \"column\": \"clean_text\",\n      \"properties\": {\n        \"dtype\": \"string\",\n        \"num_unique_values\": 6904,\n        \"samples\": [\n          \"BaseballQuotes1 I have a  inch dynasty\",\n          \"Here   s what caused a Metro train to derail in downtown D.C.\"\n        ],\n        \"semantic_type\": \"\",\n        \"description\": \"\"\n      }\n    },\n    {\n      \"column\": \"text_prepro\",\n      \"properties\": {\n        \"dtype\": \"string\",\n        \"num_unique_values\": 6854,\n        \"samples\": [\n          \"funkflex yo flex im\",\n          \"like youtub video chaboyyhd battlefield funni moment duke hazard undercov soldier\"\n        ],\n        \"semantic_type\": \"\",\n        \"description\": \"\"\n      }\n    }\n  ]\n}"
            }
          },
          "metadata": {},
          "execution_count": 18
        }
      ]
    },
    {
      "cell_type": "code",
      "source": [
        "X=train_df.drop([\"id\",\"keyword\",\"location\",\"text\",\"target\"],axis=1)\n",
        "y=train_df[\"target\"]"
      ],
      "metadata": {
        "papermill": {
          "duration": 0.024636,
          "end_time": "2024-05-12T07:34:44.40903",
          "exception": false,
          "start_time": "2024-05-12T07:34:44.384394",
          "status": "completed"
        },
        "tags": [],
        "execution": {
          "iopub.status.busy": "2024-05-13T00:27:13.212208Z",
          "iopub.execute_input": "2024-05-13T00:27:13.212731Z",
          "iopub.status.idle": "2024-05-13T00:27:13.226736Z",
          "shell.execute_reply.started": "2024-05-13T00:27:13.212685Z",
          "shell.execute_reply": "2024-05-13T00:27:13.225087Z"
        },
        "trusted": true,
        "id": "nhLCkRVFlkVF"
      },
      "execution_count": 19,
      "outputs": []
    },
    {
      "cell_type": "code",
      "source": [
        "tokenized_documents=[preprocess_text2(doc) for doc in X[\"text_prepro\"]]"
      ],
      "metadata": {
        "papermill": {
          "duration": 1.092493,
          "end_time": "2024-05-12T07:34:45.512803",
          "exception": false,
          "start_time": "2024-05-12T07:34:44.42031",
          "status": "completed"
        },
        "tags": [],
        "execution": {
          "iopub.status.busy": "2024-05-13T00:27:13.229279Z",
          "iopub.execute_input": "2024-05-13T00:27:13.229788Z",
          "iopub.status.idle": "2024-05-13T00:27:14.978059Z",
          "shell.execute_reply.started": "2024-05-13T00:27:13.229751Z",
          "shell.execute_reply": "2024-05-13T00:27:14.976841Z"
        },
        "trusted": true,
        "id": "3z1tN32ulkVF"
      },
      "execution_count": 20,
      "outputs": []
    },
    {
      "cell_type": "code",
      "source": [
        "len(tokenized_documents)"
      ],
      "metadata": {
        "papermill": {
          "duration": 0.020668,
          "end_time": "2024-05-12T07:34:45.543929",
          "exception": false,
          "start_time": "2024-05-12T07:34:45.523261",
          "status": "completed"
        },
        "tags": [],
        "execution": {
          "iopub.status.busy": "2024-05-13T00:27:14.979506Z",
          "iopub.execute_input": "2024-05-13T00:27:14.979872Z",
          "iopub.status.idle": "2024-05-13T00:27:14.988628Z",
          "shell.execute_reply.started": "2024-05-13T00:27:14.979839Z",
          "shell.execute_reply": "2024-05-13T00:27:14.986953Z"
        },
        "trusted": true,
        "id": "O6HFXGCmlkVF",
        "colab": {
          "base_uri": "https://localhost:8080/"
        },
        "outputId": "f5f1d51c-24d2-432c-a575-1b53c5508c5d"
      },
      "execution_count": 21,
      "outputs": [
        {
          "output_type": "execute_result",
          "data": {
            "text/plain": [
              "7613"
            ]
          },
          "metadata": {},
          "execution_count": 21
        }
      ]
    },
    {
      "cell_type": "code",
      "source": [
        "tokenized_documents[0]"
      ],
      "metadata": {
        "papermill": {
          "duration": 0.021072,
          "end_time": "2024-05-12T07:34:45.57572",
          "exception": false,
          "start_time": "2024-05-12T07:34:45.554648",
          "status": "completed"
        },
        "tags": [],
        "execution": {
          "iopub.status.busy": "2024-05-13T00:27:14.99039Z",
          "iopub.execute_input": "2024-05-13T00:27:14.99134Z",
          "iopub.status.idle": "2024-05-13T00:27:15.001007Z",
          "shell.execute_reply.started": "2024-05-13T00:27:14.991305Z",
          "shell.execute_reply": "2024-05-13T00:27:14.999902Z"
        },
        "trusted": true,
        "id": "8hwDuE9glkVG",
        "colab": {
          "base_uri": "https://localhost:8080/"
        },
        "outputId": "a419c5ac-aafd-4b45-ea41-7a852a380c1b"
      },
      "execution_count": 22,
      "outputs": [
        {
          "output_type": "execute_result",
          "data": {
            "text/plain": [
              "['deed', 'reason', 'earthquak', 'may', 'allah', 'forgiv', 'us']"
            ]
          },
          "metadata": {},
          "execution_count": 22
        }
      ]
    },
    {
      "cell_type": "code",
      "source": [
        "from gensim.models import Word2Vec\n",
        "ukuran_vektor=100\n",
        "word2vec_model = Word2Vec(sentences=tokenized_documents,\n",
        "                          min_count=1, vector_size=ukuran_vektor,sg=1)"
      ],
      "metadata": {
        "papermill": {
          "duration": 14.826445,
          "end_time": "2024-05-12T07:35:00.412822",
          "exception": false,
          "start_time": "2024-05-12T07:34:45.586377",
          "status": "completed"
        },
        "tags": [],
        "execution": {
          "iopub.status.busy": "2024-05-13T00:27:15.002649Z",
          "iopub.execute_input": "2024-05-13T00:27:15.002982Z",
          "iopub.status.idle": "2024-05-13T00:27:34.620295Z",
          "shell.execute_reply.started": "2024-05-13T00:27:15.002955Z",
          "shell.execute_reply": "2024-05-13T00:27:34.619131Z"
        },
        "trusted": true,
        "id": "1ZBBksu_lkVG"
      },
      "execution_count": 23,
      "outputs": []
    },
    {
      "cell_type": "code",
      "source": [
        "print(word2vec_model)"
      ],
      "metadata": {
        "papermill": {
          "duration": 0.021437,
          "end_time": "2024-05-12T07:35:00.445347",
          "exception": false,
          "start_time": "2024-05-12T07:35:00.42391",
          "status": "completed"
        },
        "tags": [],
        "execution": {
          "iopub.status.busy": "2024-05-13T00:27:34.621774Z",
          "iopub.execute_input": "2024-05-13T00:27:34.622752Z",
          "iopub.status.idle": "2024-05-13T00:27:34.631055Z",
          "shell.execute_reply.started": "2024-05-13T00:27:34.622691Z",
          "shell.execute_reply": "2024-05-13T00:27:34.629509Z"
        },
        "trusted": true,
        "id": "LBGFAo1JlkVG",
        "colab": {
          "base_uri": "https://localhost:8080/"
        },
        "outputId": "abcf7d23-0eae-4172-e84d-4c1f19ba0044"
      },
      "execution_count": 24,
      "outputs": [
        {
          "output_type": "stream",
          "name": "stdout",
          "text": [
            "Word2Vec<vocab=14127, vector_size=100, alpha=0.025>\n"
          ]
        }
      ]
    },
    {
      "cell_type": "code",
      "source": [
        "all_words =word2vec_model.wv.index_to_key\n",
        "print(\"50 kata pertama dalam model Word2Vec:\")\n",
        "for index, word in enumerate(all_words):\n",
        "    if index < 50:\n",
        "        print(f\"{word} : {index}\")\n",
        "    else:\n",
        "        break"
      ],
      "metadata": {
        "papermill": {
          "duration": 0.023432,
          "end_time": "2024-05-12T07:35:00.481773",
          "exception": false,
          "start_time": "2024-05-12T07:35:00.458341",
          "status": "completed"
        },
        "tags": [],
        "execution": {
          "iopub.status.busy": "2024-05-13T00:27:34.633143Z",
          "iopub.execute_input": "2024-05-13T00:27:34.63375Z",
          "iopub.status.idle": "2024-05-13T00:27:34.648828Z",
          "shell.execute_reply.started": "2024-05-13T00:27:34.633692Z",
          "shell.execute_reply": "2024-05-13T00:27:34.646828Z"
        },
        "trusted": true,
        "id": "9GoFsIJclkVH",
        "colab": {
          "base_uri": "https://localhost:8080/"
        },
        "outputId": "1b80d1c2-e35e-4bd3-ef50-effe6c07feb2"
      },
      "execution_count": 25,
      "outputs": [
        {
          "output_type": "stream",
          "name": "stdout",
          "text": [
            "50 kata pertama dalam model Word2Vec:\n",
            ". : 0\n",
            "like : 1\n",
            "fire : 2\n",
            "get : 3\n",
            "im : 4\n",
            "bomb : 5\n",
            "new : 6\n",
            "via : 7\n",
            "one : 8\n",
            "peopl : 9\n",
            "go : 10\n",
            "news : 11\n",
            "dont : 12\n",
            "kill : 13\n",
            "burn : 14\n",
            "video : 15\n",
            "flood : 16\n",
            "crash : 17\n",
            "time : 18\n",
            "emerg : 19\n",
            "disast : 20\n",
            "attack : 21\n",
            "build : 22\n",
            "bodi : 23\n",
            "year : 24\n",
            "look : 25\n",
            "say : 26\n",
            "polic : 27\n",
            "home : 28\n",
            "fatal : 29\n",
            "day : 30\n",
            "love : 31\n",
            "famili : 32\n",
            "would : 33\n",
            "make : 34\n",
            "evacu : 35\n",
            "still : 36\n",
            "train : 37\n",
            "see : 38\n",
            "come : 39\n",
            "storm : 40\n",
            "got : 41\n",
            "us : 42\n",
            "know : 43\n",
            "back : 44\n",
            "california : 45\n",
            "watch : 46\n",
            "want : 47\n",
            "bag : 48\n",
            "suicid : 49\n"
          ]
        }
      ]
    },
    {
      "cell_type": "code",
      "source": [
        "sequences = [[word2vec_model.wv.key_to_index[word] for word in text]\n",
        "             for text in [preprocess_text2(doc) for doc in train_df['text_prepro']]]"
      ],
      "metadata": {
        "papermill": {
          "duration": 1.187729,
          "end_time": "2024-05-12T07:35:01.682477",
          "exception": false,
          "start_time": "2024-05-12T07:35:00.494748",
          "status": "completed"
        },
        "tags": [],
        "execution": {
          "iopub.status.busy": "2024-05-13T00:27:34.651851Z",
          "iopub.execute_input": "2024-05-13T00:27:34.653147Z",
          "iopub.status.idle": "2024-05-13T00:27:36.364747Z",
          "shell.execute_reply.started": "2024-05-13T00:27:34.653012Z",
          "shell.execute_reply": "2024-05-13T00:27:36.363607Z"
        },
        "trusted": true,
        "id": "jIu2gVcjlkVH"
      },
      "execution_count": 26,
      "outputs": []
    },
    {
      "cell_type": "code",
      "source": [
        "max_length = max([len(seq) for seq in sequences])"
      ],
      "metadata": {
        "papermill": {
          "duration": 0.021943,
          "end_time": "2024-05-12T07:35:01.717224",
          "exception": false,
          "start_time": "2024-05-12T07:35:01.695281",
          "status": "completed"
        },
        "tags": [],
        "execution": {
          "iopub.status.busy": "2024-05-13T00:27:36.366286Z",
          "iopub.execute_input": "2024-05-13T00:27:36.366652Z",
          "iopub.status.idle": "2024-05-13T00:27:36.373921Z",
          "shell.execute_reply.started": "2024-05-13T00:27:36.366623Z",
          "shell.execute_reply": "2024-05-13T00:27:36.372558Z"
        },
        "trusted": true,
        "id": "-nDx-VGSlkVH"
      },
      "execution_count": 27,
      "outputs": []
    },
    {
      "cell_type": "code",
      "source": [
        "from keras.preprocessing.sequence import pad_sequences\n",
        "padded_sequences = pad_sequences(sequences, maxlen=max_length, padding='post')"
      ],
      "metadata": {
        "papermill": {
          "duration": 14.435544,
          "end_time": "2024-05-12T07:35:16.164466",
          "exception": false,
          "start_time": "2024-05-12T07:35:01.728922",
          "status": "completed"
        },
        "tags": [],
        "execution": {
          "iopub.status.busy": "2024-05-13T00:27:36.375887Z",
          "iopub.execute_input": "2024-05-13T00:27:36.376335Z",
          "iopub.status.idle": "2024-05-13T00:27:51.485602Z",
          "shell.execute_reply.started": "2024-05-13T00:27:36.376297Z",
          "shell.execute_reply": "2024-05-13T00:27:51.484358Z"
        },
        "trusted": true,
        "id": "ygMcWimglkVI"
      },
      "execution_count": 28,
      "outputs": []
    },
    {
      "cell_type": "code",
      "source": [
        "y=np.asarray(y)"
      ],
      "metadata": {
        "papermill": {
          "duration": 0.021973,
          "end_time": "2024-05-12T07:35:16.197551",
          "exception": false,
          "start_time": "2024-05-12T07:35:16.175578",
          "status": "completed"
        },
        "tags": [],
        "execution": {
          "iopub.status.busy": "2024-05-13T00:27:51.487146Z",
          "iopub.execute_input": "2024-05-13T00:27:51.487828Z",
          "iopub.status.idle": "2024-05-13T00:27:51.493127Z",
          "shell.execute_reply.started": "2024-05-13T00:27:51.487795Z",
          "shell.execute_reply": "2024-05-13T00:27:51.492217Z"
        },
        "trusted": true,
        "id": "-f3Guv1JlkVI"
      },
      "execution_count": 29,
      "outputs": []
    },
    {
      "cell_type": "code",
      "source": [
        "y.shape"
      ],
      "metadata": {
        "papermill": {
          "duration": 0.023648,
          "end_time": "2024-05-12T07:35:16.232296",
          "exception": false,
          "start_time": "2024-05-12T07:35:16.208648",
          "status": "completed"
        },
        "tags": [],
        "execution": {
          "iopub.status.busy": "2024-05-13T00:27:51.494375Z",
          "iopub.execute_input": "2024-05-13T00:27:51.494733Z",
          "iopub.status.idle": "2024-05-13T00:27:51.541283Z",
          "shell.execute_reply.started": "2024-05-13T00:27:51.494704Z",
          "shell.execute_reply": "2024-05-13T00:27:51.540161Z"
        },
        "trusted": true,
        "id": "NTAYTG08lkVI",
        "colab": {
          "base_uri": "https://localhost:8080/"
        },
        "outputId": "6646285e-c1bd-45e3-cd00-338c57eb4573"
      },
      "execution_count": 30,
      "outputs": [
        {
          "output_type": "execute_result",
          "data": {
            "text/plain": [
              "(7613,)"
            ]
          },
          "metadata": {},
          "execution_count": 30
        }
      ]
    },
    {
      "cell_type": "code",
      "source": [
        "y"
      ],
      "metadata": {
        "papermill": {
          "duration": 0.023375,
          "end_time": "2024-05-12T07:35:16.267054",
          "exception": false,
          "start_time": "2024-05-12T07:35:16.243679",
          "status": "completed"
        },
        "tags": [],
        "execution": {
          "iopub.status.busy": "2024-05-13T00:27:51.54302Z",
          "iopub.execute_input": "2024-05-13T00:27:51.543669Z",
          "iopub.status.idle": "2024-05-13T00:27:51.557053Z",
          "shell.execute_reply.started": "2024-05-13T00:27:51.543635Z",
          "shell.execute_reply": "2024-05-13T00:27:51.555581Z"
        },
        "trusted": true,
        "id": "X1znNibglkVI",
        "colab": {
          "base_uri": "https://localhost:8080/"
        },
        "outputId": "e275bc28-4d0d-43fc-c978-66031628a066"
      },
      "execution_count": 31,
      "outputs": [
        {
          "output_type": "execute_result",
          "data": {
            "text/plain": [
              "array([1, 1, 1, ..., 1, 1, 1])"
            ]
          },
          "metadata": {},
          "execution_count": 31
        }
      ]
    },
    {
      "cell_type": "code",
      "source": [
        "from sklearn.model_selection import train_test_split\n",
        "X_train,X_val,y_train,y_val=train_test_split(padded_sequences,y,\n",
        "                    test_size=0.3,random_state=42, stratify=y)"
      ],
      "metadata": {
        "papermill": {
          "duration": 0.027803,
          "end_time": "2024-05-12T07:35:16.306201",
          "exception": false,
          "start_time": "2024-05-12T07:35:16.278398",
          "status": "completed"
        },
        "tags": [],
        "execution": {
          "iopub.status.busy": "2024-05-13T00:27:51.558995Z",
          "iopub.execute_input": "2024-05-13T00:27:51.560357Z",
          "iopub.status.idle": "2024-05-13T00:27:51.575056Z",
          "shell.execute_reply.started": "2024-05-13T00:27:51.560309Z",
          "shell.execute_reply": "2024-05-13T00:27:51.573586Z"
        },
        "trusted": true,
        "id": "-hB6YVmHlkVJ"
      },
      "execution_count": 32,
      "outputs": []
    },
    {
      "cell_type": "code",
      "source": [
        "embedding_matrix = np.zeros((len(word2vec_model.wv.key_to_index) + 1, word2vec_model.vector_size))\n",
        "for word, i in word2vec_model.wv.key_to_index.items():\n",
        "    embedding_vector = word2vec_model.wv[word]\n",
        "    if embedding_vector is not None:\n",
        "        embedding_matrix[i] = embedding_vector"
      ],
      "metadata": {
        "papermill": {
          "duration": 0.074164,
          "end_time": "2024-05-12T07:35:16.393007",
          "exception": false,
          "start_time": "2024-05-12T07:35:16.318843",
          "status": "completed"
        },
        "tags": [],
        "execution": {
          "iopub.status.busy": "2024-05-13T00:27:51.578715Z",
          "iopub.execute_input": "2024-05-13T00:27:51.579733Z",
          "iopub.status.idle": "2024-05-13T00:27:51.650781Z",
          "shell.execute_reply.started": "2024-05-13T00:27:51.579695Z",
          "shell.execute_reply": "2024-05-13T00:27:51.649328Z"
        },
        "trusted": true,
        "id": "0j2iaJLalkVJ"
      },
      "execution_count": 33,
      "outputs": []
    },
    {
      "cell_type": "code",
      "source": [
        "jumlah_kelas=len(np.unique(y))"
      ],
      "metadata": {
        "papermill": {
          "duration": 0.021126,
          "end_time": "2024-05-12T07:35:16.426203",
          "exception": false,
          "start_time": "2024-05-12T07:35:16.405077",
          "status": "completed"
        },
        "tags": [],
        "execution": {
          "iopub.status.busy": "2024-05-13T00:27:51.652725Z",
          "iopub.execute_input": "2024-05-13T00:27:51.653296Z",
          "iopub.status.idle": "2024-05-13T00:27:51.659803Z",
          "shell.execute_reply.started": "2024-05-13T00:27:51.653252Z",
          "shell.execute_reply": "2024-05-13T00:27:51.658267Z"
        },
        "trusted": true,
        "id": "01b3MXJdlkVJ"
      },
      "execution_count": 34,
      "outputs": []
    },
    {
      "cell_type": "code",
      "source": [
        "jumlah_kelas"
      ],
      "metadata": {
        "papermill": {
          "duration": 0.022968,
          "end_time": "2024-05-12T07:35:16.460363",
          "exception": false,
          "start_time": "2024-05-12T07:35:16.437395",
          "status": "completed"
        },
        "tags": [],
        "execution": {
          "iopub.status.busy": "2024-05-13T00:27:51.661896Z",
          "iopub.execute_input": "2024-05-13T00:27:51.662336Z",
          "iopub.status.idle": "2024-05-13T00:27:51.675169Z",
          "shell.execute_reply.started": "2024-05-13T00:27:51.662295Z",
          "shell.execute_reply": "2024-05-13T00:27:51.673793Z"
        },
        "trusted": true,
        "id": "nhN-osrSlkVJ",
        "colab": {
          "base_uri": "https://localhost:8080/"
        },
        "outputId": "e95e1f35-decb-400f-b772-83c0dee7a7c2"
      },
      "execution_count": 35,
      "outputs": [
        {
          "output_type": "execute_result",
          "data": {
            "text/plain": [
              "2"
            ]
          },
          "metadata": {},
          "execution_count": 35
        }
      ]
    },
    {
      "cell_type": "code",
      "source": [
        "from keras.models import Sequential\n",
        "from keras.layers import Dense, GRU, Dropout, Input, Embedding, Bidirectional,GlobalMaxPooling1D\n",
        "from keras.initializers import GlorotUniform\n",
        "model = Sequential()\n",
        "model.add(Input(shape=(max_length,)))\n",
        "model.add(Embedding(input_dim=embedding_matrix.shape[0], output_dim=embedding_matrix.shape[1],\n",
        "                    trainable=False))\n",
        "model.add(Bidirectional(GRU(ukuran_vektor,kernel_initializer=GlorotUniform(), return_sequences=True)))\n",
        "model.add(GlobalMaxPooling1D())\n",
        "model.add(Dense(256, activation='relu'))\n",
        "model.add(Dropout(0.3))\n",
        "model.add(Dense(jumlah_kelas*2, activation='relu'))\n",
        "model.add(Dropout(0.2))\n",
        "model.add(Dense(jumlah_kelas, activation='softmax'))"
      ],
      "metadata": {
        "papermill": {
          "duration": 0.302242,
          "end_time": "2024-05-12T07:35:16.774885",
          "exception": false,
          "start_time": "2024-05-12T07:35:16.472643",
          "status": "completed"
        },
        "tags": [],
        "execution": {
          "iopub.status.busy": "2024-05-13T00:27:51.682757Z",
          "iopub.execute_input": "2024-05-13T00:27:51.683221Z",
          "iopub.status.idle": "2024-05-13T00:27:51.930809Z",
          "shell.execute_reply.started": "2024-05-13T00:27:51.683187Z",
          "shell.execute_reply": "2024-05-13T00:27:51.929328Z"
        },
        "trusted": true,
        "id": "wcgHEdzRlkVK"
      },
      "execution_count": 36,
      "outputs": []
    },
    {
      "cell_type": "code",
      "source": [
        "from keras.optimizers import Adam\n",
        "optimizer = Adam(learning_rate=0.001)\n",
        "model.compile(optimizer=optimizer, loss='sparse_categorical_crossentropy',\n",
        "                                                      metrics=['accuracy'])"
      ],
      "metadata": {
        "papermill": {
          "duration": 0.033299,
          "end_time": "2024-05-12T07:35:16.81972",
          "exception": false,
          "start_time": "2024-05-12T07:35:16.786421",
          "status": "completed"
        },
        "tags": [],
        "execution": {
          "iopub.status.busy": "2024-05-13T00:27:51.932563Z",
          "iopub.execute_input": "2024-05-13T00:27:51.932983Z",
          "iopub.status.idle": "2024-05-13T00:27:51.953905Z",
          "shell.execute_reply.started": "2024-05-13T00:27:51.932932Z",
          "shell.execute_reply": "2024-05-13T00:27:51.952569Z"
        },
        "trusted": true,
        "id": "wUoOBuM1lkVK"
      },
      "execution_count": 37,
      "outputs": []
    },
    {
      "cell_type": "code",
      "source": [
        "from keras.callbacks import EarlyStopping,ReduceLROnPlateau\n",
        "early_stopping = EarlyStopping(monitor='val_loss', patience=5,\n",
        "                                     restore_best_weights=True)\n",
        "reduce_lr = ReduceLROnPlateau(monitor='val_loss', factor=0.2,\n",
        "                                    patience=5, min_lr=0.0001)"
      ],
      "metadata": {
        "papermill": {
          "duration": 0.022833,
          "end_time": "2024-05-12T07:35:16.854336",
          "exception": false,
          "start_time": "2024-05-12T07:35:16.831503",
          "status": "completed"
        },
        "tags": [],
        "execution": {
          "iopub.status.busy": "2024-05-13T00:27:51.955919Z",
          "iopub.execute_input": "2024-05-13T00:27:51.956763Z",
          "iopub.status.idle": "2024-05-13T00:27:51.965065Z",
          "shell.execute_reply.started": "2024-05-13T00:27:51.956725Z",
          "shell.execute_reply": "2024-05-13T00:27:51.962526Z"
        },
        "trusted": true,
        "id": "THnU6wSQlkVK"
      },
      "execution_count": 38,
      "outputs": []
    },
    {
      "cell_type": "code",
      "source": [
        "history = model.fit(X_train, y_train, epochs=500, batch_size=256,\n",
        "                    validation_data=(X_val, y_val), callbacks=[early_stopping,reduce_lr])"
      ],
      "metadata": {
        "_kg_hide-output": true,
        "papermill": {
          "duration": 252.483088,
          "end_time": "2024-05-12T07:39:29.414157",
          "exception": false,
          "start_time": "2024-05-12T07:35:16.931069",
          "status": "completed"
        },
        "tags": [],
        "execution": {
          "iopub.status.busy": "2024-05-13T00:27:51.966797Z",
          "iopub.execute_input": "2024-05-13T00:27:51.967193Z",
          "iopub.status.idle": "2024-05-13T00:29:28.299027Z",
          "shell.execute_reply.started": "2024-05-13T00:27:51.967152Z",
          "shell.execute_reply": "2024-05-13T00:29:28.297933Z"
        },
        "trusted": true,
        "id": "bqmoeH9slkVK",
        "colab": {
          "base_uri": "https://localhost:8080/"
        },
        "outputId": "b1a798d9-8b80-4ec8-8898-3bf7c9c5aa1d"
      },
      "execution_count": 39,
      "outputs": [
        {
          "output_type": "stream",
          "name": "stdout",
          "text": [
            "Epoch 1/500\n",
            "21/21 [==============================] - 13s 357ms/step - loss: 0.6840 - accuracy: 0.5684 - val_loss: 0.6781 - val_accuracy: 0.5705 - lr: 0.0010\n",
            "Epoch 2/500\n",
            "21/21 [==============================] - 5s 224ms/step - loss: 0.6740 - accuracy: 0.5703 - val_loss: 0.6660 - val_accuracy: 0.5705 - lr: 0.0010\n",
            "Epoch 3/500\n",
            "21/21 [==============================] - 5s 220ms/step - loss: 0.6605 - accuracy: 0.5703 - val_loss: 0.6536 - val_accuracy: 0.5705 - lr: 0.0010\n",
            "Epoch 4/500\n",
            "21/21 [==============================] - 8s 405ms/step - loss: 0.6471 - accuracy: 0.5703 - val_loss: 0.6403 - val_accuracy: 0.5705 - lr: 0.0010\n",
            "Epoch 5/500\n",
            "21/21 [==============================] - 7s 341ms/step - loss: 0.6330 - accuracy: 0.6238 - val_loss: 0.6314 - val_accuracy: 0.6607 - lr: 0.0010\n",
            "Epoch 6/500\n",
            "21/21 [==============================] - 6s 303ms/step - loss: 0.6168 - accuracy: 0.6996 - val_loss: 0.6223 - val_accuracy: 0.6773 - lr: 0.0010\n",
            "Epoch 7/500\n",
            "21/21 [==============================] - 5s 249ms/step - loss: 0.5893 - accuracy: 0.7091 - val_loss: 0.6075 - val_accuracy: 0.6813 - lr: 0.0010\n",
            "Epoch 8/500\n",
            "21/21 [==============================] - 6s 312ms/step - loss: 0.5527 - accuracy: 0.7371 - val_loss: 0.5733 - val_accuracy: 0.7180 - lr: 0.0010\n",
            "Epoch 9/500\n",
            "21/21 [==============================] - 5s 220ms/step - loss: 0.5188 - accuracy: 0.7570 - val_loss: 0.5526 - val_accuracy: 0.7382 - lr: 0.0010\n",
            "Epoch 10/500\n",
            "21/21 [==============================] - 10s 493ms/step - loss: 0.4785 - accuracy: 0.7893 - val_loss: 0.5379 - val_accuracy: 0.7504 - lr: 0.0010\n",
            "Epoch 11/500\n",
            "21/21 [==============================] - 7s 350ms/step - loss: 0.4439 - accuracy: 0.8101 - val_loss: 0.5204 - val_accuracy: 0.7548 - lr: 0.0010\n",
            "Epoch 12/500\n",
            "21/21 [==============================] - 6s 295ms/step - loss: 0.4044 - accuracy: 0.8371 - val_loss: 0.5140 - val_accuracy: 0.7526 - lr: 0.0010\n",
            "Epoch 13/500\n",
            "21/21 [==============================] - 6s 279ms/step - loss: 0.3758 - accuracy: 0.8463 - val_loss: 0.5578 - val_accuracy: 0.7601 - lr: 0.0010\n",
            "Epoch 14/500\n",
            "21/21 [==============================] - 5s 242ms/step - loss: 0.3451 - accuracy: 0.8643 - val_loss: 0.5231 - val_accuracy: 0.7653 - lr: 0.0010\n",
            "Epoch 15/500\n",
            "21/21 [==============================] - 9s 441ms/step - loss: 0.3054 - accuracy: 0.8831 - val_loss: 0.5275 - val_accuracy: 0.7482 - lr: 0.0010\n",
            "Epoch 16/500\n",
            "21/21 [==============================] - 7s 333ms/step - loss: 0.2804 - accuracy: 0.8910 - val_loss: 0.5334 - val_accuracy: 0.7553 - lr: 0.0010\n",
            "Epoch 17/500\n",
            "21/21 [==============================] - 6s 297ms/step - loss: 0.2568 - accuracy: 0.9097 - val_loss: 0.5616 - val_accuracy: 0.7688 - lr: 0.0010\n"
          ]
        }
      ]
    },
    {
      "cell_type": "code",
      "source": [
        "loss, accuracy = model.evaluate(X_val, y_val, verbose=0)\n",
        "print(f'loss: {loss:.2f}')\n",
        "print(f'Accuracy: {accuracy*100:.2f}%')"
      ],
      "metadata": {
        "papermill": {
          "duration": 1.062325,
          "end_time": "2024-05-12T07:39:30.537341",
          "exception": false,
          "start_time": "2024-05-12T07:39:29.475016",
          "status": "completed"
        },
        "tags": [],
        "execution": {
          "iopub.status.busy": "2024-05-13T00:29:28.301546Z",
          "iopub.execute_input": "2024-05-13T00:29:28.301987Z",
          "iopub.status.idle": "2024-05-13T00:29:29.165376Z",
          "shell.execute_reply.started": "2024-05-13T00:29:28.301954Z",
          "shell.execute_reply": "2024-05-13T00:29:29.164385Z"
        },
        "trusted": true,
        "id": "2N9tEd3klkVL",
        "colab": {
          "base_uri": "https://localhost:8080/"
        },
        "outputId": "f100dfab-a0d9-4e81-9779-a55f14498aa5"
      },
      "execution_count": 40,
      "outputs": [
        {
          "output_type": "stream",
          "name": "stdout",
          "text": [
            "loss: 0.51\n",
            "Accuracy: 75.26%\n"
          ]
        }
      ]
    },
    {
      "cell_type": "code",
      "source": [
        "print(\"Konfigurasi Lapisan Embedding:\")\n",
        "print(model.layers[0].get_config())"
      ],
      "metadata": {
        "papermill": {
          "duration": 0.069981,
          "end_time": "2024-05-12T07:39:30.665894",
          "exception": false,
          "start_time": "2024-05-12T07:39:30.595913",
          "status": "completed"
        },
        "tags": [],
        "execution": {
          "iopub.status.busy": "2024-05-13T00:29:29.167891Z",
          "iopub.execute_input": "2024-05-13T00:29:29.168378Z",
          "iopub.status.idle": "2024-05-13T00:29:29.17689Z",
          "shell.execute_reply.started": "2024-05-13T00:29:29.168333Z",
          "shell.execute_reply": "2024-05-13T00:29:29.175307Z"
        },
        "trusted": true,
        "id": "ntH62Wf_lkVL",
        "colab": {
          "base_uri": "https://localhost:8080/"
        },
        "outputId": "9d38e8c6-98e5-4da5-94b3-887f8ff5fe39"
      },
      "execution_count": 41,
      "outputs": [
        {
          "output_type": "stream",
          "name": "stdout",
          "text": [
            "Konfigurasi Lapisan Embedding:\n",
            "{'name': 'embedding', 'trainable': False, 'dtype': 'float32', 'batch_input_shape': (None, None), 'input_dim': 14128, 'output_dim': 100, 'embeddings_initializer': {'module': 'keras.initializers', 'class_name': 'RandomUniform', 'config': {'minval': -0.05, 'maxval': 0.05, 'seed': None}, 'registered_name': None}, 'embeddings_regularizer': None, 'activity_regularizer': None, 'embeddings_constraint': None, 'mask_zero': False, 'input_length': None}\n"
          ]
        }
      ]
    },
    {
      "cell_type": "code",
      "source": [],
      "metadata": {
        "id": "WeHH1y9y_YFa"
      },
      "execution_count": 41,
      "outputs": []
    },
    {
      "cell_type": "code",
      "source": [
        "print(\"Bobot Lapisan Embedding:\")\n",
        "print(model.layers[0].get_weights()[0])"
      ],
      "metadata": {
        "papermill": {
          "duration": 0.076561,
          "end_time": "2024-05-12T07:39:30.803253",
          "exception": false,
          "start_time": "2024-05-12T07:39:30.726692",
          "status": "completed"
        },
        "tags": [],
        "execution": {
          "iopub.status.busy": "2024-05-13T00:29:29.17882Z",
          "iopub.execute_input": "2024-05-13T00:29:29.179294Z",
          "iopub.status.idle": "2024-05-13T00:29:29.196021Z",
          "shell.execute_reply.started": "2024-05-13T00:29:29.179253Z",
          "shell.execute_reply": "2024-05-13T00:29:29.194785Z"
        },
        "trusted": true,
        "id": "LWnOhSaolkVL",
        "colab": {
          "base_uri": "https://localhost:8080/"
        },
        "outputId": "8acee0a4-90ca-401d-a88c-2133605437c1"
      },
      "execution_count": 42,
      "outputs": [
        {
          "output_type": "stream",
          "name": "stdout",
          "text": [
            "Bobot Lapisan Embedding:\n",
            "[[ 0.0439225  -0.02831218 -0.02574219 ...  0.03040952  0.03676963\n",
            "   0.01100241]\n",
            " [-0.0206452  -0.01393359  0.01884833 ... -0.02179232  0.02133146\n",
            "   0.006241  ]\n",
            " [ 0.04859498  0.03875028 -0.00967467 ...  0.01972753  0.03257332\n",
            "  -0.0311239 ]\n",
            " ...\n",
            " [-0.01407263 -0.0327616  -0.01326074 ...  0.03368742 -0.02565553\n",
            "   0.02682037]\n",
            " [-0.00521685 -0.03611405  0.03615495 ... -0.00939299 -0.02577504\n",
            "  -0.02595948]\n",
            " [-0.02494993 -0.03135045 -0.02401221 ...  0.00200041  0.03389254\n",
            "   0.04940716]]\n"
          ]
        }
      ]
    },
    {
      "cell_type": "code",
      "source": [
        "import matplotlib.pyplot as plt\n",
        "plt.plot(history.history['loss'], label='train')\n",
        "plt.plot(history.history['val_loss'], label='val')\n",
        "plt.title('Model Loss')\n",
        "plt.xlabel('Epoch')\n",
        "plt.ylabel('Loss')\n",
        "plt.legend()\n",
        "plt.show()"
      ],
      "metadata": {
        "papermill": {
          "duration": 0.41789,
          "end_time": "2024-05-12T07:39:31.281257",
          "exception": false,
          "start_time": "2024-05-12T07:39:30.863367",
          "status": "completed"
        },
        "tags": [],
        "execution": {
          "iopub.status.busy": "2024-05-13T00:29:29.19787Z",
          "iopub.execute_input": "2024-05-13T00:29:29.198269Z",
          "iopub.status.idle": "2024-05-13T00:29:29.58359Z",
          "shell.execute_reply.started": "2024-05-13T00:29:29.198235Z",
          "shell.execute_reply": "2024-05-13T00:29:29.582599Z"
        },
        "trusted": true,
        "id": "5wK3YJTelkVM",
        "colab": {
          "base_uri": "https://localhost:8080/",
          "height": 472
        },
        "outputId": "82210c59-c943-43f9-8366-58570ea747b5"
      },
      "execution_count": 43,
      "outputs": [
        {
          "output_type": "display_data",
          "data": {
            "text/plain": [
              "<Figure size 640x480 with 1 Axes>"
            ],
            "image/png": "[encoded data removed]"
          },
          "metadata": {}
        }
      ]
    },
    {
      "cell_type": "code",
      "source": [
        "accuracy = history.history['accuracy']\n",
        "val_accuracy = history.history['val_accuracy']\n",
        "plt.plot(accuracy, label='Training Accuracy')\n",
        "plt.plot(val_accuracy, label='Validation Accuracy')\n",
        "plt.title('Training and Validation Accuracy')\n",
        "plt.xlabel('Epochs')\n",
        "plt.ylabel('Accuracy')\n",
        "plt.legend()\n",
        "plt.show()"
      ],
      "metadata": {
        "papermill": {
          "duration": 0.383408,
          "end_time": "2024-05-12T07:39:31.727345",
          "exception": false,
          "start_time": "2024-05-12T07:39:31.343937",
          "status": "completed"
        },
        "tags": [],
        "execution": {
          "iopub.status.busy": "2024-05-13T00:29:29.585007Z",
          "iopub.execute_input": "2024-05-13T00:29:29.586071Z",
          "iopub.status.idle": "2024-05-13T00:29:29.962876Z",
          "shell.execute_reply.started": "2024-05-13T00:29:29.586031Z",
          "shell.execute_reply": "2024-05-13T00:29:29.961258Z"
        },
        "trusted": true,
        "id": "YrFly5ZhlkVM",
        "colab": {
          "base_uri": "https://localhost:8080/",
          "height": 472
        },
        "outputId": "d20f891a-9147-400b-f27f-e66fefb7eed6"
      },
      "execution_count": 44,
      "outputs": [
        {
          "output_type": "display_data",
          "data": {
            "text/plain": [
              "<Figure size 640x480 with 1 Axes>"
            ],
            "image/png": "[encoded data removed]"
          },
          "metadata": {}
        }
      ]
    },
    {
      "cell_type": "code",
      "source": [
        "model.summary()"
      ],
      "metadata": {
        "papermill": {
          "duration": 0.096607,
          "end_time": "2024-05-12T07:39:31.885769",
          "exception": false,
          "start_time": "2024-05-12T07:39:31.789162",
          "status": "completed"
        },
        "tags": [],
        "execution": {
          "iopub.status.busy": "2024-05-13T00:29:29.964447Z",
          "iopub.execute_input": "2024-05-13T00:29:29.967857Z",
          "iopub.status.idle": "2024-05-13T00:29:30.017452Z",
          "shell.execute_reply.started": "2024-05-13T00:29:29.967796Z",
          "shell.execute_reply": "2024-05-13T00:29:30.015816Z"
        },
        "trusted": true,
        "id": "XhK7wvCRlkVM",
        "colab": {
          "base_uri": "https://localhost:8080/"
        },
        "outputId": "a19ff3f8-f706-40cd-cd48-57b29950450a"
      },
      "execution_count": 45,
      "outputs": [
        {
          "output_type": "stream",
          "name": "stdout",
          "text": [
            "Model: \"sequential\"\n",
            "_________________________________________________________________\n",
            " Layer (type)                Output Shape              Param #   \n",
            "=================================================================\n",
            " embedding (Embedding)       (None, 27, 100)           1412800   \n",
            "                                                                 \n",
            " bidirectional (Bidirection  (None, 27, 200)           121200    \n",
            " al)                                                             \n",
            "                                                                 \n",
            " global_max_pooling1d (Glob  (None, 200)               0         \n",
            " alMaxPooling1D)                                                 \n",
            "                                                                 \n",
            " dense (Dense)               (None, 256)               51456     \n",
            "                                                                 \n",
            " dropout (Dropout)           (None, 256)               0         \n",
            "                                                                 \n",
            " dense_1 (Dense)             (None, 4)                 1028      \n",
            "                                                                 \n",
            " dropout_1 (Dropout)         (None, 4)                 0         \n",
            "                                                                 \n",
            " dense_2 (Dense)             (None, 2)                 10        \n",
            "                                                                 \n",
            "=================================================================\n",
            "Total params: 1586494 (6.05 MB)\n",
            "Trainable params: 173694 (678.49 KB)\n",
            "Non-trainable params: 1412800 (5.39 MB)\n",
            "_________________________________________________________________\n"
          ]
        }
      ]
    },
    {
      "cell_type": "code",
      "source": [
        "from keras.utils import plot_model\n",
        "file_name = 'arsitektur_model.png'\n",
        "plot_model(model, to_file=file_name, show_shapes=True, show_layer_names=True)\n",
        "plt.figure(figsize=(15,15))\n",
        "img = plt.imread(file_name)\n",
        "plt.imshow(img)\n",
        "plt.title('Arsitektur Model', fontsize=18)\n",
        "plt.axis('off')\n",
        "plt.savefig(file_name)\n",
        "plt.show()"
      ],
      "metadata": {
        "papermill": {
          "duration": 1.679131,
          "end_time": "2024-05-12T07:39:33.62741",
          "exception": false,
          "start_time": "2024-05-12T07:39:31.948279",
          "status": "completed"
        },
        "tags": [],
        "execution": {
          "iopub.status.busy": "2024-05-13T00:29:30.019261Z",
          "iopub.execute_input": "2024-05-13T00:29:30.020167Z",
          "iopub.status.idle": "2024-05-13T00:29:32.111634Z",
          "shell.execute_reply.started": "2024-05-13T00:29:30.020118Z",
          "shell.execute_reply": "2024-05-13T00:29:32.109928Z"
        },
        "trusted": true,
        "id": "sZODS6sClkVM",
        "colab": {
          "base_uri": "https://localhost:8080/",
          "height": 1000
        },
        "outputId": "35bb2764-d628-4727-94eb-38373759b6ac"
      },
      "execution_count": 46,
      "outputs": [
        {
          "output_type": "display_data",
          "data": {
            "text/plain": [
              "<Figure size 1500x1500 with 1 Axes>"
            ],
            "image/png": "[encoded data removed]"
          },
          "metadata": {}
        }
      ]
    },
    {
      "cell_type": "code",
      "source": [
        "from sklearn.metrics import classification_report\n",
        "y_pred = model.predict(X_val)\n",
        "y_pred_classes = np.argmax(y_pred, axis=1)\n",
        "report = classification_report(y_val, y_pred_classes)\n",
        "print(\"Classification Report:\")\n",
        "print(report)"
      ],
      "metadata": {
        "papermill": {
          "duration": 2.322626,
          "end_time": "2024-05-12T07:39:36.014288",
          "exception": false,
          "start_time": "2024-05-12T07:39:33.691662",
          "status": "completed"
        },
        "tags": [],
        "execution": {
          "iopub.status.busy": "2024-05-13T00:29:32.113855Z",
          "iopub.execute_input": "2024-05-13T00:29:32.114404Z",
          "iopub.status.idle": "2024-05-13T00:29:33.902725Z",
          "shell.execute_reply.started": "2024-05-13T00:29:32.114355Z",
          "shell.execute_reply": "2024-05-13T00:29:33.901389Z"
        },
        "trusted": true,
        "id": "Fg_ZZzXGlkVi",
        "colab": {
          "base_uri": "https://localhost:8080/"
        },
        "outputId": "15f8abe9-cabc-4962-9359-dcbea4dc10c2"
      },
      "execution_count": 47,
      "outputs": [
        {
          "output_type": "stream",
          "name": "stdout",
          "text": [
            "72/72 [==============================] - 3s 13ms/step\n",
            "Classification Report:\n",
            "              precision    recall  f1-score   support\n",
            "\n",
            "           0       0.77      0.82      0.79      1303\n",
            "           1       0.73      0.67      0.70       981\n",
            "\n",
            "    accuracy                           0.75      2284\n",
            "   macro avg       0.75      0.74      0.74      2284\n",
            "weighted avg       0.75      0.75      0.75      2284\n",
            "\n"
          ]
        }
      ]
    },
    {
      "cell_type": "code",
      "source": [
        "from sklearn.metrics import confusion_matrix\n",
        "import seaborn as sns\n",
        "cm = confusion_matrix(y_val, y_pred_classes)\n",
        "plt.figure(figsize=(8, 6))\n",
        "sns.heatmap(cm, annot=True, fmt='d', cmap='Blues')\n",
        "plt.xlabel('Predicted Label')\n",
        "plt.ylabel('True Label')\n",
        "plt.title('Confusion Matrix')\n",
        "plt.show()"
      ],
      "metadata": {
        "papermill": {
          "duration": 0.693765,
          "end_time": "2024-05-12T07:39:36.775658",
          "exception": false,
          "start_time": "2024-05-12T07:39:36.081893",
          "status": "completed"
        },
        "tags": [],
        "execution": {
          "iopub.status.busy": "2024-05-13T00:29:33.904376Z",
          "iopub.execute_input": "2024-05-13T00:29:33.904832Z",
          "iopub.status.idle": "2024-05-13T00:29:34.462116Z",
          "shell.execute_reply.started": "2024-05-13T00:29:33.904797Z",
          "shell.execute_reply": "2024-05-13T00:29:34.460621Z"
        },
        "trusted": true,
        "id": "jdKFZQuBlkVj",
        "colab": {
          "base_uri": "https://localhost:8080/",
          "height": 564
        },
        "outputId": "b4dc281c-91d7-4e29-a0cd-b6a54da86941"
      },
      "execution_count": 48,
      "outputs": [
        {
          "output_type": "display_data",
          "data": {
            "text/plain": [
              "<Figure size 800x600 with 2 Axes>"
            ],
            "image/png": "[encoded data removed]"
          },
          "metadata": {}
        }
      ]
    },
    {
      "cell_type": "code",
      "source": [
        "word2vec_model.save(\"word2vec_model.model\")\n",
        "train_df.to_csv(\"train_data.csv\", index=False)"
      ],
      "metadata": {
        "papermill": {
          "duration": 0.167522,
          "end_time": "2024-05-12T07:39:37.009166",
          "exception": false,
          "start_time": "2024-05-12T07:39:36.841644",
          "status": "completed"
        },
        "tags": [],
        "execution": {
          "iopub.status.busy": "2024-05-13T00:29:34.463775Z",
          "iopub.execute_input": "2024-05-13T00:29:34.464139Z",
          "iopub.status.idle": "2024-05-13T00:29:34.621172Z",
          "shell.execute_reply.started": "2024-05-13T00:29:34.464102Z",
          "shell.execute_reply": "2024-05-13T00:29:34.620012Z"
        },
        "trusted": true,
        "id": "BmxN39nolkVj"
      },
      "execution_count": 49,
      "outputs": []
    },
    {
      "cell_type": "code",
      "source": [],
      "metadata": {
        "id": "rdA0X2GRKz5m"
      },
      "execution_count": null,
      "outputs": []
    }
  ]
}